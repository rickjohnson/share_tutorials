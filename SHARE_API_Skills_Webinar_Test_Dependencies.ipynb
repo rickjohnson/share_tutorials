{
 "cells": [
  {
   "cell_type": "markdown",
   "metadata": {},
   "source": [
    "The following are a list of dependencies for the upcoming SHARE API skills webinar.  This script assumes you already already have jupyter notebook and python installed.  If you do not please run through those setup steps first.\n",
    "\n",
    "In order to load are dependent software please open a command shell on your machine and run the following commands\n",
    "\n",
    "cd\n",
    "\n",
    "pip install furl\n",
    "\n",
    "pip install csv\n",
    "\n",
    "pip install sharepa\n",
    "\n",
    "When you are done running those commands, come back to this notebook and with your cursor in the box below, hit Shift+Enter to execute the block.  If there are no errors displayed, you are good to go.  There may be one or two warnings, and please ignore those."
   ]
  },
  {
   "cell_type": "code",
   "execution_count": 5,
   "metadata": {
    "collapsed": false
   },
   "outputs": [
    {
     "name": "stdout",
     "output_type": "stream",
     "text": [
      "---If you get this far without errors, you are good to go!---\n"
     ]
    }
   ],
   "source": [
    "import requests\n",
    "import json\n",
    "from IPython.display import Image, display\n",
    "import furl\n",
    "import os\n",
    "import csv\n",
    "import sharepa\n",
    "from sharepa import basic_search\n",
    "from sharepa import ShareSearch\n",
    "from sharepa.helpers import pretty_print\n",
    "print('---If you get this far without errors, you are good to go!---')"
   ]
  },
  {
   "cell_type": "code",
   "execution_count": null,
   "metadata": {
    "collapsed": true
   },
   "outputs": [],
   "source": []
  }
 ],
 "metadata": {
  "anaconda-cloud": {},
  "kernelspec": {
   "display_name": "Python [Root]",
   "language": "python",
   "name": "Python [Root]"
  },
  "language_info": {
   "codemirror_mode": {
    "name": "ipython",
    "version": 3
   },
   "file_extension": ".py",
   "mimetype": "text/x-python",
   "name": "python",
   "nbconvert_exporter": "python",
   "pygments_lexer": "ipython3",
   "version": "3.5.2"
  }
 },
 "nbformat": 4,
 "nbformat_minor": 0
}
