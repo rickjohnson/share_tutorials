{
 "cells": [
  {
   "cell_type": "markdown",
   "metadata": {},
   "source": [
    "**Objectives of this Webinar:**\n",
    "\n",
    "You will be able to query SHARE for records that are known to be tied to your institution, and might be tied to your institution.  You will then be able to export them to a csv file for review.\n",
    "\n",
    "Let's start in the Search Interface: http://share.osf.io"
   ]
  },
  {
   "cell_type": "markdown",
   "metadata": {},
   "source": [
    "**Replicating this process in code**\n",
    "\n",
    "First we will set some values for Jupyter to use.\n",
    "\n",
    "Why is this useful?\n",
    "\n",
    "Remember Drew Barrymore in '50 First Dates'?\n",
    "\n",
    "http://www.imdb.com/title/tt0343660/\n",
    "\n",
    "**Special Tip:**  Put your cursor in the Cell (i.e., box) below and hit Shift+Enter on your keyboard to run it "
   ]
  },
  {
   "cell_type": "code",
   "execution_count": null,
   "metadata": {
    "collapsed": true
   },
   "outputs": [],
   "source": [
    "SHARE_API = 'https://staging-share.osf.io/api/search/abstractcreativework/_search'"
   ]
  },
  {
   "cell_type": "markdown",
   "metadata": {},
   "source": [
    "This is now in memory!  However, beware.  Just like Drew Barrymore if you close this notebook and reopen it, jupyter has completely forgotten about it, and you will need to rerun it for Jupyter to know about it.\n",
    "\n",
    "**Special Tip:** Why all CAPS? It is convention (i.e., common practice) to use all capital letters when defining something that does not change?"
   ]
  },
  {
   "cell_type": "markdown",
   "metadata": {},
   "source": [
    "Next, let's move onto a simple request."
   ]
  },
  {
   "cell_type": "code",
   "execution_count": null,
   "metadata": {
    "collapsed": false
   },
   "outputs": [],
   "source": [
    "import furl\n",
    "import requests\n",
    "\n",
    "search_url = furl.furl(SHARE_API)\n",
    "search_url.args['size'] = 3\n",
    "recent_results = requests.get(search_url.url).json()\n",
    "\n",
    "recent_results = recent_results['hits']['hits']\n",
    "\n",
    "print('The request URL is {}'.format(search_url.url))\n",
    "print('----------')\n",
    "for result in recent_results:\n",
    "    print(\n",
    "        '{} -- from {}'.format(\n",
    "            result['_source']['title'],\n",
    "            result['_source']['sources']\n",
    "        )\n",
    "    )"
   ]
  },
  {
   "cell_type": "markdown",
   "metadata": {},
   "source": [
    "Let's add a search string\n",
    "\n",
    "**Special Tip:** Sometimes you can learn a lot from a url and let's look at it after we search using the search box on SHARE (http://share.osf.io)\n",
    "    \n",
    "https://share.osf.io/discover?q=university%20of%20oregon"
   ]
  },
  {
   "cell_type": "code",
   "execution_count": null,
   "metadata": {
    "collapsed": false
   },
   "outputs": [],
   "source": [
    "search_url.args['q'] = 'university of oregon'\n",
    "recent_results = requests.get(search_url.url).json()\n",
    "\n",
    "recent_results = recent_results['hits']['hits']\n",
    "\n",
    "print('The request URL is {}'.format(search_url.url))\n",
    "print('---------')\n",
    "for result in recent_results:\n",
    "    print(\n",
    "        '{} -- from {}'.format(\n",
    "            result['_source']['title'],\n",
    "            result['_source']['sources']\n",
    "        )\n",
    "    )"
   ]
  },
  {
   "cell_type": "markdown",
   "metadata": {},
   "source": [
    "**Special Tip:**  To print text and variables together use the format function as below with '{}' anywhere you want to insert a value and then include them in order to the format method."
   ]
  },
  {
   "cell_type": "markdown",
   "metadata": {},
   "source": [
    "**Looking for exact matches use our facet filter**\n",
    "\n",
    "Let's go back to SHARE, apply a facet and see what it is doing\n",
    "\n",
    "http://share.osf.io\n",
    "    "
   ]
  },
  {
   "cell_type": "code",
   "execution_count": null,
   "metadata": {
    "collapsed": true
   },
   "outputs": [],
   "source": [
    "affiliation_query = {\n",
    "    \"query\": {\n",
    "        \"bool\": {\n",
    "            \"must\": {\n",
    "                \"query_string\": {\n",
    "                    \"query\": \"*\"\n",
    "                }\n",
    "            },\n",
    "            \"filter\": [\n",
    "                {\n",
    "                    \"term\": {\n",
    "                        \"institutions.raw\": \"University of Oregon Libraries\"\n",
    "                    }\n",
    "                }\n",
    "            ]\n",
    "        }\n",
    "    }\n",
    "}"
   ]
  },
  {
   "cell_type": "markdown",
   "metadata": {},
   "source": [
    "Let's input a method into memory so we can use it later.  Do not worry too much about the specifics yet.\n",
    "\n",
    "**Special Tip:** Just like variables you can define methods that do a job and you can then use them later without rewriting what it does"
   ]
  },
  {
   "cell_type": "code",
   "execution_count": null,
   "metadata": {
    "collapsed": true
   },
   "outputs": [],
   "source": [
    "import json\n",
    "import requests\n",
    "\n",
    "def query_share(url, query):\n",
    "    # A helper function that will use the requests library,\n",
    "    # pass along the correct headers,\n",
    "    # and make the query we want\n",
    "    headers = {'Content-Type': 'application/json'}\n",
    "    data = json.dumps(query)\n",
    "    return requests.post(url, headers=headers, data=data, verify=False).json()"
   ]
  },
  {
   "cell_type": "markdown",
   "metadata": {},
   "source": [
    "**Special Tip:** Use '#' as first character in a line if you want to put in a comment"
   ]
  },
  {
   "cell_type": "code",
   "execution_count": null,
   "metadata": {
    "collapsed": true
   },
   "outputs": [],
   "source": [
    "affiliation_results = query_share(search_url.url, affiliation_query)\n",
    "\n",
    "total_results = requests.get(search_url.url).json()['hits']['total']\n",
    "print('total results found: {}'.format(total_results))"
   ]
  },
  {
   "cell_type": "markdown",
   "metadata": {},
   "source": [
    "Where are my results?  Things can differently from staging to production environments.\n",
    "\n",
    "Let's create a new variable and change our search url"
   ]
  },
  {
   "cell_type": "code",
   "execution_count": null,
   "metadata": {
    "collapsed": true
   },
   "outputs": [],
   "source": [
    "PROD_SHARE_API= 'https://share.osf.io/api/search/abstractcreativework/_search'\n",
    "\n",
    "search_url = furl.furl(PROD_SHARE_API)\n",
    "search_url.args['size'] = 3"
   ]
  },
  {
   "cell_type": "code",
   "execution_count": null,
   "metadata": {
    "collapsed": true
   },
   "outputs": [],
   "source": [
    "affiliation_results = query_share(search_url.url, affiliation_query)\n",
    "\n",
    "total_results = requests.get(search_url.url).json()['hits']['total']\n",
    "print('total results found: {}'.format(total_results))"
   ]
  },
  {
   "cell_type": "code",
   "execution_count": null,
   "metadata": {
    "collapsed": false
   },
   "outputs": [],
   "source": [
    "#with_tags = query_share(search_url.url, tags_query)\n",
    "#missing_tags = query_share(search_url.url, missing_tags_query)\n",
    "affiliation_results = query_share(search_url.url, affiliation_query)\n",
    "print(affiliation_results)\n",
    "print('------------')\n",
    "print('------------')\n",
    "print(affiliation_results['hits'])\n",
    "print('------------')\n",
    "print('------------')\n",
    "print(affiliation_results['hits']['hits'])\n",
    "print('------------')\n",
    "print('------------')\n",
    "#print(affiliation_results['hits']['hits'].keys())\n",
    "row1 = affiliation_results['hits']['hits'].pop()\n",
    "print(row1.keys())\n",
    "print(affiliation_results['hits']['hits'])\n",
    "# it is not a flat list, so need to look at hierarchy to see how best to work with it\n",
    "# at more advanced stage interact with data in a way that keeps the hierarchical structure\n",
    "\n",
    "#error handling\n",
    "#if hits total > 0\n",
    "\n",
    "total_results = requests.get(search_url.url).json()['hits']['total']\n",
    "\n",
    "#with_tags_percent = (float(with_tags['hits']['total'])/total_results)*100\n",
    "#missing_tags_percent = (float(missing_tags['hits']['total'])/total_results)*100\n",
    "affiliation_results_percent = (float(affiliation_results['hits']['total'])/total_results)*100\n",
    "\n",
    "\n",
    "#print(\n",
    "#    '{} results out of {}, or {}%, have tags.'.format(\n",
    "#        with_tags['hits']['total'],\n",
    "#        total_results,\n",
    "#        format(with_tags_percent, '.2f')\n",
    "#    )\n",
    "#)\n",
    "\n",
    "#print(\n",
    "#    '{} results out of {}, or {}%, do NOT have tags.'.format(\n",
    "#        missing_tags['hits']['total'],\n",
    "#        total_results,\n",
    "#        format(missing_tags_percent, '.2f')\n",
    "#    )\n",
    "#)\n",
    "\n",
    "print(\n",
    "    '{} results out of {}, or {}%, do NOT have tags.'.format(\n",
    "        affiliation_results['hits']['total'],\n",
    "        total_results,\n",
    "        format(affiliation_results_percent, '.2f')\n",
    "    )\n",
    ")\n",
    "\n",
    "print('------------')\n"
   ]
  },
  {
   "cell_type": "code",
   "execution_count": null,
   "metadata": {
    "collapsed": true
   },
   "outputs": [],
   "source": [
    "print(affiliation_results['hits']['hits'])"
   ]
  },
  {
   "cell_type": "code",
   "execution_count": null,
   "metadata": {
    "collapsed": false
   },
   "outputs": [],
   "source": [
    "affiliation_results = query_share(search_url.url, affiliation_query)\n",
    "print(affiliation_results)"
   ]
  },
  {
   "cell_type": "code",
   "execution_count": null,
   "metadata": {
    "collapsed": false
   },
   "outputs": [],
   "source": [
    "affiliation_results = query_share(search_url.url, affiliation_query)\n",
    "print(affiliation_results['hits'])"
   ]
  },
  {
   "cell_type": "code",
   "execution_count": null,
   "metadata": {
    "collapsed": false
   },
   "outputs": [],
   "source": [
    "affiliation_results = query_share(search_url.url, affiliation_query)\n",
    "print(affiliation_results['hits']['hits'])"
   ]
  },
  {
   "cell_type": "code",
   "execution_count": null,
   "metadata": {
    "collapsed": false
   },
   "outputs": [],
   "source": [
    "affiliation_results = query_share(search_url.url, affiliation_query)\n",
    "row1 = affiliation_results['hits']['hits'].pop()\n",
    "print(row1.keys())\n",
    "print('total results found: {}'.format(affiliation_results['hits']['total']))\n"
   ]
  },
  {
   "cell_type": "code",
   "execution_count": null,
   "metadata": {
    "collapsed": false
   },
   "outputs": [],
   "source": [
    "affiliation_results = query_share(search_url.url, affiliation_query)\n",
    "row1 = affiliation_results['hits']['hits'].pop()\n",
    "print(affiliation_results['hits']['hits'])\n",
    "print(row1.keys())\n",
    "print(row1['_source'].keys())\n",
    "print('total results found: {}'.format(affiliation_results['hits']['total']))"
   ]
  },
  {
   "cell_type": "code",
   "execution_count": null,
   "metadata": {
    "collapsed": true
   },
   "outputs": [],
   "source": [
    "affiliation_results = query_share(search_url.url, affiliation_query)\n",
    "row1 = affiliation_results['hits']['hits'].pop()\n",
    "print(affiliation_results['hits']['hits'])\n",
    "print(row1.keys())\n",
    "print(row1['_source'].keys())\n",
    "print('total results found: {}'.format(affiliation_results['hits']['total']))"
   ]
  },
  {
   "cell_type": "code",
   "execution_count": null,
   "metadata": {
    "collapsed": false
   },
   "outputs": [],
   "source": [
    "#get the keys\n",
    "for key in row1.keys():\n",
    "    print(key)"
   ]
  },
  {
   "cell_type": "code",
   "execution_count": null,
   "metadata": {
    "collapsed": false
   },
   "outputs": [],
   "source": [
    "#get the values\n",
    "for key in row1.keys():\n",
    "    print(row1[key])"
   ]
  },
  {
   "cell_type": "code",
   "execution_count": null,
   "metadata": {
    "collapsed": false
   },
   "outputs": [],
   "source": [
    "#put keys and values together\n",
    "for key in row1.keys():\n",
    "    print('{}:{}'.format(key,row1[key]))"
   ]
  },
  {
   "cell_type": "code",
   "execution_count": null,
   "metadata": {
    "collapsed": false
   },
   "outputs": [],
   "source": [
    "for key in row1['_source']:\n",
    "    print('{}:{}\\n'.format(key,row1['_source']))"
   ]
  },
  {
   "cell_type": "code",
   "execution_count": null,
   "metadata": {
    "collapsed": false
   },
   "outputs": [],
   "source": [
    "for key in row1['_source']:\n",
    "    print('{}:{}\\n'.format(key,row1['_source'][key]))"
   ]
  },
  {
   "cell_type": "code",
   "execution_count": null,
   "metadata": {
    "collapsed": false
   },
   "outputs": [],
   "source": [
    "for key in row1['_source']:\n",
    "    print('{}:{}\\n'.format(key,row1['_source'][key]))"
   ]
  },
  {
   "cell_type": "code",
   "execution_count": null,
   "metadata": {
    "collapsed": true
   },
   "outputs": [],
   "source": [
    "#Put id first"
   ]
  },
  {
   "cell_type": "code",
   "execution_count": null,
   "metadata": {
    "collapsed": false
   },
   "outputs": [],
   "source": [
    "import os\n",
    "\n",
    "#os.getcwd()\n",
    "#os.chdir('..')\n",
    "#os.getcwd()\n",
    "#os.chdir('share_tutorials')\n",
    "#os.getcwd()"
   ]
  },
  {
   "cell_type": "markdown",
   "metadata": {},
   "source": [
    "**Copy, Paste, and Adapt...**\n",
    "\n",
    "Let's try writing to a simple csv file as an example (example pulled from https://docs.python.org/3/library/csv.html)"
   ]
  },
  {
   "cell_type": "code",
   "execution_count": null,
   "metadata": {
    "collapsed": true
   },
   "outputs": [],
   "source": [
    "import csv\n",
    "\n",
    "with open('names.csv', 'w') as csvfile:\n",
    "    fieldnames = ['first_name', 'last_name']\n",
    "    writer = csv.DictWriter(csvfile, fieldnames=fieldnames)\n",
    "\n",
    "    writer.writeheader()\n",
    "    writer.writerow({'first_name': 'Baked', 'last_name': 'Beans'})\n",
    "    writer.writerow({'first_name': 'Lovely', 'last_name': 'Spam'})\n",
    "    writer.writerow({'first_name': 'Wonderful', 'last_name': 'Spam'})"
   ]
  },
  {
   "cell_type": "markdown",
   "metadata": {},
   "source": [
    "Let's adapt this now with our data from SHARE..."
   ]
  },
  {
   "cell_type": "code",
   "execution_count": null,
   "metadata": {
    "collapsed": false
   },
   "outputs": [],
   "source": [
    "import csv\n",
    "\n",
    "affiliation_results = query_share(search_url.url, affiliation_query)\n",
    "records = affiliation_results['hits']['hits']\n",
    "\n",
    "#set our filenames\n",
    "SHARE_MATCHING_INSTITUTION_RECORDS = 'share_matching.csv'\n",
    "\n",
    "with open(SHARE_MATCHING_INSTITUTION_RECORDS, 'w') as csvfile:\n",
    "    #instead of pop us a for loop\n",
    "    i = 0\n",
    "    for record in records:\n",
    "        if i == 0:\n",
    "            fieldnames = record['_source'].keys()\n",
    "            writer = csv.DictWriter(csvfile, fieldnames=fieldnames)\n",
    "            writer.writeheader()\n",
    "            i = i + 1\n",
    "        row = {}\n",
    "        for key in record['_source']:\n",
    "            row.update({key:record['_source'][key]})\n",
    "        writer.writerow(row)    \n",
    "        #for key in row['_source']:\n",
    "            \n",
    "        #    print('{}:{}\\n'.format(key,row1['_source'][key]))"
   ]
  },
  {
   "cell_type": "markdown",
   "metadata": {},
   "source": [
    "Special Tip: extrasaction value of 'ignore' will not throw an error if there are keys in this method such as a nested dictionary"
   ]
  },
  {
   "cell_type": "code",
   "execution_count": null,
   "metadata": {
    "collapsed": false
   },
   "outputs": [],
   "source": [
    "import csv\n",
    "\n",
    "affiliation_results = query_share(search_url.url, affiliation_query)\n",
    "records = affiliation_results['hits']['hits']\n",
    "\n",
    "#set our filenames\n",
    "SHARE_MATCHING_INSTITUTION_RECORDS = 'share_matching.csv'\n",
    "\n",
    "with open(SHARE_MATCHING_INSTITUTION_RECORDS, 'w') as csvfile:\n",
    "    #instead of pop us a for loop\n",
    "    i = 0\n",
    "    for row in records:\n",
    "        if i == 0:\n",
    "            fieldnames = row['_source'].keys()\n",
    "            writer = csv.DictWriter(csvfile, fieldnames=fieldnames, extrasaction='ignore')\n",
    "            writer.writeheader()\n",
    "            i = i + 1\n",
    "        writer.writerow(row['_source'])    "
   ]
  },
  {
   "cell_type": "markdown",
   "metadata": {},
   "source": [
    "Finally to pull everything together (remember Drew Barrymore that this would otherwise not work if you started here)"
   ]
  },
  {
   "cell_type": "code",
   "execution_count": null,
   "metadata": {
    "collapsed": true
   },
   "outputs": [],
   "source": []
  }
 ],
 "metadata": {
  "anaconda-cloud": {},
  "kernelspec": {
   "display_name": "Python [Root]",
   "language": "python",
   "name": "Python [Root]"
  },
  "language_info": {
   "codemirror_mode": {
    "name": "ipython",
    "version": 3
   },
   "file_extension": ".py",
   "mimetype": "text/x-python",
   "name": "python",
   "nbconvert_exporter": "python",
   "pygments_lexer": "ipython3",
   "version": "3.5.2"
  }
 },
 "nbformat": 4,
 "nbformat_minor": 0
}
