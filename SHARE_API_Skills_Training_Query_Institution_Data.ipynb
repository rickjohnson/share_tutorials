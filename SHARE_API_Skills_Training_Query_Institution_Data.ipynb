{
 "cells": [
  {
   "cell_type": "code",
   "execution_count": 5,
   "metadata": {
    "collapsed": true
   },
   "outputs": [],
   "source": [
    "SHARE_API = 'https://staging-share.osf.io/api/search/abstractcreativework/_search'\n",
    "PROD_SHARE_API= 'https://share.osf.io/api/search/abstractcreativework/_search'"
   ]
  },
  {
   "cell_type": "code",
   "execution_count": 6,
   "metadata": {
    "collapsed": false
   },
   "outputs": [
    {
     "name": "stdout",
     "output_type": "stream",
     "text": [
      "The request URL is https://share.osf.io/api/search/abstractcreativework/_search?size=3\n",
      "----------\n",
      "SH078169.07FU\n",
      "Rhizophagus irregularis (B&#322;aszk., Wubet, Renker & Buscot) C. Walker & A. Schüßler -- from ['DataCite MDS']\n",
      "CCDC 1462836: Experimental Crystal Structure Determination -- from ['DataCite MDS']\n",
      "GBIF Occurrence Download -- from ['DataCite MDS']\n",
      "ТЕОРЕТИЧЕСКИЕ И ПРАКТИЧЕСКИЕ АСПЕКТЫ ПРИМЕНЕНИЯ НАНОТЕХНОЛОГИЙ ПРИ ПОДГОТОВКЕ СЕМЯН К ПОСЕВУ -- from ['CyberLeninka - Russian open access scientific library']\n",
      "ВНУТРИВУЗОВСКОЕ ЭЛЕКТРОННОЕ ПРОСТРАНСТВО НА ОСНОВЕ НОВЫХ ОБРАЗОВАТЕЛЬНЫХ ТЕХНОЛОГИЙ -- from ['CyberLeninka - Russian open access scientific library']\n",
      "ХИМИЧЕСКИЙ СОСТАВ ДРЕВЕСИНЫ ДУБА, ИСПОЛЬЗУЕМОЙ ДЛЯ ПРОИЗВОДСТВА КОНЬЯКА И БРЕНДИ -- from ['CyberLeninka - Russian open access scientific library']\n",
      "SH082013.07FU\n",
      "Trichaptum abietinum (Dicks.) Ryvarden -- from ['DataCite MDS']\n",
      "МЕТОД ОПРЕДЕЛЕНИЯ ВЫХОДА КОРОТКИХ ЗАГОТОВОК ИЗ ПИЛОМАТЕРИАЛОВ -- from ['CyberLeninka - Russian open access scientific library']\n",
      "К ВОПРОСУ ИЗУЧЕНИЯ ВОЗРАСТНЫХ ОСОБЕННОСТЕЙ СЕРДЕЧНОГО РИТМА У НАСЕЛЕНИЯ В УСЛОВИЯХ ЮЖНОГО ПРИАРАЛЬЯ -- from ['CyberLeninka - Russian open access scientific library']\n",
      "РЕАКЦИОННАЯ СПОСОБНОСТЬ РАЗЛИЧНЫХ ЦЕЛЛЮЛОЗОСОДЕРЖАЩИХ МАТЕРИАЛОВ ПРИ ФЕРМЕНТАТИВНОМ ГИДРОЛИЗЕ -- from ['CyberLeninka - Russian open access scientific library']\n"
     ]
    }
   ],
   "source": [
    "import furl\n",
    "import requests\n",
    "\n",
    "search_url = furl.furl(PROD_SHARE_API)\n",
    "search_url.args['size'] = 3\n",
    "recent_results = requests.get(search_url.url).json()\n",
    "\n",
    "recent_results = recent_results['hits']['hits']\n",
    "\n",
    "print('The request URL is {}'.format(search_url.url))\n",
    "print('----------')\n",
    "for result in recent_results:\n",
    "    print(\n",
    "        '{} -- from {}'.format(\n",
    "            result['_source']['title'],\n",
    "            result['_source']['sources']\n",
    "        )\n",
    "    )"
   ]
  },
  {
   "cell_type": "code",
   "execution_count": 7,
   "metadata": {
    "collapsed": false
   },
   "outputs": [
    {
     "name": "stdout",
     "output_type": "stream",
     "text": [
      "The request URL is https://share.osf.io/api/search/abstractcreativework/_search?size=3&q=university+of+oregon\n",
      "---------\n",
      "SH078169.07FU\n",
      "Rhizophagus irregularis (B&#322;aszk., Wubet, Renker & Buscot) C. Walker & A. Schüßler -- from ['DataCite MDS']\n",
      "CCDC 1462836: Experimental Crystal Structure Determination -- from ['DataCite MDS']\n",
      "GBIF Occurrence Download -- from ['DataCite MDS']\n",
      "ТЕОРЕТИЧЕСКИЕ И ПРАКТИЧЕСКИЕ АСПЕКТЫ ПРИМЕНЕНИЯ НАНОТЕХНОЛОГИЙ ПРИ ПОДГОТОВКЕ СЕМЯН К ПОСЕВУ -- from ['CyberLeninka - Russian open access scientific library']\n",
      "ВНУТРИВУЗОВСКОЕ ЭЛЕКТРОННОЕ ПРОСТРАНСТВО НА ОСНОВЕ НОВЫХ ОБРАЗОВАТЕЛЬНЫХ ТЕХНОЛОГИЙ -- from ['CyberLeninka - Russian open access scientific library']\n",
      "ХИМИЧЕСКИЙ СОСТАВ ДРЕВЕСИНЫ ДУБА, ИСПОЛЬЗУЕМОЙ ДЛЯ ПРОИЗВОДСТВА КОНЬЯКА И БРЕНДИ -- from ['CyberLeninka - Russian open access scientific library']\n",
      "SH082013.07FU\n",
      "Trichaptum abietinum (Dicks.) Ryvarden -- from ['DataCite MDS']\n",
      "МЕТОД ОПРЕДЕЛЕНИЯ ВЫХОДА КОРОТКИХ ЗАГОТОВОК ИЗ ПИЛОМАТЕРИАЛОВ -- from ['CyberLeninka - Russian open access scientific library']\n",
      "К ВОПРОСУ ИЗУЧЕНИЯ ВОЗРАСТНЫХ ОСОБЕННОСТЕЙ СЕРДЕЧНОГО РИТМА У НАСЕЛЕНИЯ В УСЛОВИЯХ ЮЖНОГО ПРИАРАЛЬЯ -- from ['CyberLeninka - Russian open access scientific library']\n",
      "РЕАКЦИОННАЯ СПОСОБНОСТЬ РАЗЛИЧНЫХ ЦЕЛЛЮЛОЗОСОДЕРЖАЩИХ МАТЕРИАЛОВ ПРИ ФЕРМЕНТАТИВНОМ ГИДРОЛИЗЕ -- from ['CyberLeninka - Russian open access scientific library']\n"
     ]
    }
   ],
   "source": [
    "search_url.args['q'] = 'university of oregon'\n",
    "recent_results = requests.get(search_url.url).json()\n",
    "\n",
    "recent_results = recent_results['hits']['hits']\n",
    "\n",
    "print('The request URL is {}'.format(search_url.url))\n",
    "print('---------')\n",
    "for result in recent_results:\n",
    "    print(\n",
    "        '{} -- from {}'.format(\n",
    "            result['_source']['title'],\n",
    "            result['_source']['sources']\n",
    "        )\n",
    "    )"
   ]
  },
  {
   "cell_type": "code",
   "execution_count": 8,
   "metadata": {
    "collapsed": true
   },
   "outputs": [],
   "source": [
    "affiliation_query = {\n",
    "    \"query\": {\n",
    "        \"bool\": {\n",
    "            \"must\": {\n",
    "                \"query_string\": {\n",
    "                    \"query\": \"*\"\n",
    "                }\n",
    "            },\n",
    "            \"filter\": [\n",
    "                {\n",
    "                    \"term\": {\n",
    "                        \"institutions.raw\": \"University of Oregon Libraries\"\n",
    "                    }\n",
    "                }\n",
    "            ]\n",
    "        }\n",
    "    }\n",
    "}"
   ]
  },
  {
   "cell_type": "code",
   "execution_count": 9,
   "metadata": {
    "collapsed": true
   },
   "outputs": [],
   "source": [
    "import json\n",
    "import requests\n",
    "\n",
    "def query_share(url, query):\n",
    "    # A helper function that will use the requests library,\n",
    "    # pass along the correct headers,\n",
    "    # and make the query we want\n",
    "    headers = {'Content-Type': 'application/json'}\n",
    "    data = json.dumps(query)\n",
    "    return requests.post(url, headers=headers, data=data, verify=False).json()"
   ]
  },
  {
   "cell_type": "code",
   "execution_count": 10,
   "metadata": {
    "collapsed": false
   },
   "outputs": [
    {
     "name": "stderr",
     "output_type": "stream",
     "text": [
      "/Users/rjohns14/anaconda/lib/python3.5/site-packages/requests/packages/urllib3/connectionpool.py:821: InsecureRequestWarning: Unverified HTTPS request is being made. Adding certificate verification is strongly advised. See: https://urllib3.readthedocs.org/en/latest/security.html\n",
      "  InsecureRequestWarning)\n",
      "/Users/rjohns14/anaconda/lib/python3.5/site-packages/requests/packages/urllib3/connectionpool.py:821: InsecureRequestWarning: Unverified HTTPS request is being made. Adding certificate verification is strongly advised. See: https://urllib3.readthedocs.org/en/latest/security.html\n",
      "  InsecureRequestWarning)\n"
     ]
    },
    {
     "name": "stdout",
     "output_type": "stream",
     "text": [
      "{'timed_out': False, '_shards': {'failed': 0, 'total': 5, 'successful': 5}, 'took': 3, 'hits': {'total': 2, 'max_score': 1.0, 'hits': [{'_score': 1.0, '_source': {'date': '2015-06-17T19:41:12+00:00', 'type': 'creativework', 'date_created': '2016-08-19T08:58:01.621579+00:00', 'contributors': [], 'date_published': None, 'is_deleted': False, 'subjects': [], 'institutions': ['University of Oregon Libraries'], 'date_updated': '2015-06-17T19:41:12+00:00', 'date_modified': '2016-08-19T08:58:01.621541+00:00', 'tags': ['libraries', 'program review', 'self-study', 'University Record', 'col_1794_3856', 'com_1794_151', 'com_1794_6373', 'com_1794_3855'], 'title': 'University of Oregon Library System Program Review', 'description': 'University of Oregon Libraries self-study from 1998.', 'sources': ['Scholars Bank University of Oregon'], 'lists': {'institutions': [{'type': 'institution', 'id': 59361, 'name': 'University of Oregon Libraries'}], 'links': [{'type': 'misc', 'url': 'http://hdl.handle.net/1794/12239'}], 'contributors': []}, 'id': 2577749, 'language': None}, '_id': '2577749', '_index': 'share', '_type': 'abstractcreativework'}, {'_score': 1.0, '_source': {'date': '2016-05-16T20:18:44+00:00', 'type': 'creativework', 'publishers': ['Knight Library Press - digital editions'], 'date_created': '2016-08-19T04:14:17.742376+00:00', 'contributors': [], 'date_published': None, 'is_deleted': False, 'subjects': [], 'institutions': ['University of Oregon Libraries'], 'date_updated': '2016-05-16T20:18:44+00:00', 'date_modified': '2016-08-19T04:14:17.742449+00:00', 'tags': ['Other', 'CDL.UOREGON', 'CDL'], 'title': 'Peripherica', 'description': '', 'sources': ['DataCite MDS'], 'lists': {'publishers': [{'type': 'publisher', 'id': 59363, 'name': 'Knight Library Press - digital editions'}], 'institutions': [{'type': 'institution', 'id': 59361, 'name': 'University of Oregon Libraries'}], 'links': [{'type': 'doi', 'url': 'http://dx.doi.org/10.7264/N3TD9VNT'}], 'contributors': []}, 'id': 1743547, 'language': None}, '_id': '1743547', '_index': 'share', '_type': 'abstractcreativework'}]}}\n",
      "------------\n",
      "------------\n",
      "{'total': 2, 'max_score': 1.0, 'hits': [{'_score': 1.0, '_source': {'date': '2015-06-17T19:41:12+00:00', 'type': 'creativework', 'date_created': '2016-08-19T08:58:01.621579+00:00', 'contributors': [], 'date_published': None, 'is_deleted': False, 'subjects': [], 'institutions': ['University of Oregon Libraries'], 'date_updated': '2015-06-17T19:41:12+00:00', 'date_modified': '2016-08-19T08:58:01.621541+00:00', 'tags': ['libraries', 'program review', 'self-study', 'University Record', 'col_1794_3856', 'com_1794_151', 'com_1794_6373', 'com_1794_3855'], 'title': 'University of Oregon Library System Program Review', 'description': 'University of Oregon Libraries self-study from 1998.', 'sources': ['Scholars Bank University of Oregon'], 'lists': {'institutions': [{'type': 'institution', 'id': 59361, 'name': 'University of Oregon Libraries'}], 'links': [{'type': 'misc', 'url': 'http://hdl.handle.net/1794/12239'}], 'contributors': []}, 'id': 2577749, 'language': None}, '_id': '2577749', '_index': 'share', '_type': 'abstractcreativework'}, {'_score': 1.0, '_source': {'date': '2016-05-16T20:18:44+00:00', 'type': 'creativework', 'publishers': ['Knight Library Press - digital editions'], 'date_created': '2016-08-19T04:14:17.742376+00:00', 'contributors': [], 'date_published': None, 'is_deleted': False, 'subjects': [], 'institutions': ['University of Oregon Libraries'], 'date_updated': '2016-05-16T20:18:44+00:00', 'date_modified': '2016-08-19T04:14:17.742449+00:00', 'tags': ['Other', 'CDL.UOREGON', 'CDL'], 'title': 'Peripherica', 'description': '', 'sources': ['DataCite MDS'], 'lists': {'publishers': [{'type': 'publisher', 'id': 59363, 'name': 'Knight Library Press - digital editions'}], 'institutions': [{'type': 'institution', 'id': 59361, 'name': 'University of Oregon Libraries'}], 'links': [{'type': 'doi', 'url': 'http://dx.doi.org/10.7264/N3TD9VNT'}], 'contributors': []}, 'id': 1743547, 'language': None}, '_id': '1743547', '_index': 'share', '_type': 'abstractcreativework'}]}\n",
      "------------\n",
      "------------\n",
      "[{'_score': 1.0, '_source': {'date': '2015-06-17T19:41:12+00:00', 'type': 'creativework', 'date_created': '2016-08-19T08:58:01.621579+00:00', 'contributors': [], 'date_published': None, 'is_deleted': False, 'subjects': [], 'institutions': ['University of Oregon Libraries'], 'date_updated': '2015-06-17T19:41:12+00:00', 'date_modified': '2016-08-19T08:58:01.621541+00:00', 'tags': ['libraries', 'program review', 'self-study', 'University Record', 'col_1794_3856', 'com_1794_151', 'com_1794_6373', 'com_1794_3855'], 'title': 'University of Oregon Library System Program Review', 'description': 'University of Oregon Libraries self-study from 1998.', 'sources': ['Scholars Bank University of Oregon'], 'lists': {'institutions': [{'type': 'institution', 'id': 59361, 'name': 'University of Oregon Libraries'}], 'links': [{'type': 'misc', 'url': 'http://hdl.handle.net/1794/12239'}], 'contributors': []}, 'id': 2577749, 'language': None}, '_id': '2577749', '_index': 'share', '_type': 'abstractcreativework'}, {'_score': 1.0, '_source': {'date': '2016-05-16T20:18:44+00:00', 'type': 'creativework', 'publishers': ['Knight Library Press - digital editions'], 'date_created': '2016-08-19T04:14:17.742376+00:00', 'contributors': [], 'date_published': None, 'is_deleted': False, 'subjects': [], 'institutions': ['University of Oregon Libraries'], 'date_updated': '2016-05-16T20:18:44+00:00', 'date_modified': '2016-08-19T04:14:17.742449+00:00', 'tags': ['Other', 'CDL.UOREGON', 'CDL'], 'title': 'Peripherica', 'description': '', 'sources': ['DataCite MDS'], 'lists': {'publishers': [{'type': 'publisher', 'id': 59363, 'name': 'Knight Library Press - digital editions'}], 'institutions': [{'type': 'institution', 'id': 59361, 'name': 'University of Oregon Libraries'}], 'links': [{'type': 'doi', 'url': 'http://dx.doi.org/10.7264/N3TD9VNT'}], 'contributors': []}, 'id': 1743547, 'language': None}, '_id': '1743547', '_index': 'share', '_type': 'abstractcreativework'}]\n",
      "------------\n",
      "------------\n",
      "dict_keys(['_score', '_source', '_id', '_index', '_type'])\n",
      "[{'_score': 1.0, '_source': {'date': '2015-06-17T19:41:12+00:00', 'type': 'creativework', 'date_created': '2016-08-19T08:58:01.621579+00:00', 'contributors': [], 'date_published': None, 'is_deleted': False, 'subjects': [], 'institutions': ['University of Oregon Libraries'], 'date_updated': '2015-06-17T19:41:12+00:00', 'date_modified': '2016-08-19T08:58:01.621541+00:00', 'tags': ['libraries', 'program review', 'self-study', 'University Record', 'col_1794_3856', 'com_1794_151', 'com_1794_6373', 'com_1794_3855'], 'title': 'University of Oregon Library System Program Review', 'description': 'University of Oregon Libraries self-study from 1998.', 'sources': ['Scholars Bank University of Oregon'], 'lists': {'institutions': [{'type': 'institution', 'id': 59361, 'name': 'University of Oregon Libraries'}], 'links': [{'type': 'misc', 'url': 'http://hdl.handle.net/1794/12239'}], 'contributors': []}, 'id': 2577749, 'language': None}, '_id': '2577749', '_index': 'share', '_type': 'abstractcreativework'}]\n",
      "2 results out of 10188614, or 0.00%, do NOT have tags.\n",
      "------------\n",
      "As a little sanity check....\n"
     ]
    },
    {
     "ename": "NameError",
     "evalue": "name 'with_tags_percent' is not defined",
     "output_type": "error",
     "traceback": [
      "\u001b[0;31m---------------------------------------------------------------------------\u001b[0m",
      "\u001b[0;31mNameError\u001b[0m                                 Traceback (most recent call last)",
      "\u001b[0;32m<ipython-input-10-bd77f5d87951>\u001b[0m in \u001b[0;36m<module>\u001b[0;34m()\u001b[0m\n\u001b[1;32m     54\u001b[0m \u001b[0mprint\u001b[0m\u001b[0;34m(\u001b[0m\u001b[0;34m'------------'\u001b[0m\u001b[0;34m)\u001b[0m\u001b[0;34m\u001b[0m\u001b[0m\n\u001b[1;32m     55\u001b[0m \u001b[0mprint\u001b[0m\u001b[0;34m(\u001b[0m\u001b[0;34m'As a little sanity check....'\u001b[0m\u001b[0;34m)\u001b[0m\u001b[0;34m\u001b[0m\u001b[0m\n\u001b[0;32m---> 56\u001b[0;31m \u001b[0mprint\u001b[0m\u001b[0;34m(\u001b[0m\u001b[0;34m'{} + {} = {}%'\u001b[0m\u001b[0;34m.\u001b[0m\u001b[0mformat\u001b[0m\u001b[0;34m(\u001b[0m\u001b[0mwith_tags_percent\u001b[0m\u001b[0;34m,\u001b[0m \u001b[0mmissing_tags_percent\u001b[0m\u001b[0;34m,\u001b[0m \u001b[0mformat\u001b[0m\u001b[0;34m(\u001b[0m\u001b[0mwith_tags_percent\u001b[0m \u001b[0;34m+\u001b[0m \u001b[0mmissing_tags_percent\u001b[0m\u001b[0;34m,\u001b[0m \u001b[0;34m'.2f'\u001b[0m\u001b[0;34m)\u001b[0m\u001b[0;34m)\u001b[0m\u001b[0;34m)\u001b[0m\u001b[0;34m\u001b[0m\u001b[0m\n\u001b[0m",
      "\u001b[0;31mNameError\u001b[0m: name 'with_tags_percent' is not defined"
     ]
    }
   ],
   "source": [
    "#with_tags = query_share(search_url.url, tags_query)\n",
    "#missing_tags = query_share(search_url.url, missing_tags_query)\n",
    "affiliation_results = query_share(search_url.url, affiliation_query)\n",
    "print(affiliation_results)\n",
    "print('------------')\n",
    "print('------------')\n",
    "print(affiliation_results['hits'])\n",
    "print('------------')\n",
    "print('------------')\n",
    "print(affiliation_results['hits']['hits'])\n",
    "print('------------')\n",
    "print('------------')\n",
    "#print(affiliation_results['hits']['hits'].keys())\n",
    "row1 = affiliation_results['hits']['hits'].pop()\n",
    "print(row1.keys())\n",
    "print(affiliation_results['hits']['hits'])\n",
    "# it is not a flat list, so need to look at hierarchy to see how best to work with it\n",
    "# at more advanced stage interact with data in a way that keeps the hierarchical structure\n",
    "\n",
    "#error handling\n",
    "#if hits total > 0\n",
    "\n",
    "total_results = requests.get(search_url.url).json()['hits']['total']\n",
    "\n",
    "#with_tags_percent = (float(with_tags['hits']['total'])/total_results)*100\n",
    "#missing_tags_percent = (float(missing_tags['hits']['total'])/total_results)*100\n",
    "affiliation_results_percent = (float(affiliation_results['hits']['total'])/total_results)*100\n",
    "\n",
    "\n",
    "#print(\n",
    "#    '{} results out of {}, or {}%, have tags.'.format(\n",
    "#        with_tags['hits']['total'],\n",
    "#        total_results,\n",
    "#        format(with_tags_percent, '.2f')\n",
    "#    )\n",
    "#)\n",
    "\n",
    "#print(\n",
    "#    '{} results out of {}, or {}%, do NOT have tags.'.format(\n",
    "#        missing_tags['hits']['total'],\n",
    "#        total_results,\n",
    "#        format(missing_tags_percent, '.2f')\n",
    "#    )\n",
    "#)\n",
    "\n",
    "print(\n",
    "    '{} results out of {}, or {}%, do NOT have tags.'.format(\n",
    "        affiliation_results['hits']['total'],\n",
    "        total_results,\n",
    "        format(affiliation_results_percent, '.2f')\n",
    "    )\n",
    ")\n",
    "\n",
    "print('------------')\n",
    "print('As a little sanity check....')\n",
    "print('{} + {} = {}%'.format(with_tags_percent, missing_tags_percent, format(with_tags_percent + missing_tags_percent, '.2f')))"
   ]
  },
  {
   "cell_type": "code",
   "execution_count": null,
   "metadata": {
    "collapsed": true
   },
   "outputs": [],
   "source": [
    "affiliation_results = query_share(search_url.url, affiliation_query)\n",
    "print(affiliation_results)"
   ]
  },
  {
   "cell_type": "code",
   "execution_count": null,
   "metadata": {
    "collapsed": true
   },
   "outputs": [],
   "source": [
    "affiliation_results = query_share(search_url.url, affiliation_query)\n",
    "print(affiliation_results['hits'])"
   ]
  },
  {
   "cell_type": "code",
   "execution_count": null,
   "metadata": {
    "collapsed": true
   },
   "outputs": [],
   "source": [
    "affiliation_results = query_share(search_url.url, affiliation_query)\n",
    "print(affiliation_results['hits']['hits'])"
   ]
  },
  {
   "cell_type": "code",
   "execution_count": null,
   "metadata": {
    "collapsed": true
   },
   "outputs": [],
   "source": [
    "affiliation_results = query_share(search_url.url, affiliation_query)\n",
    "row1 = affiliation_results['hits']['hits'].pop()\n",
    "print(row1.keys())"
   ]
  },
  {
   "cell_type": "code",
   "execution_count": null,
   "metadata": {
    "collapsed": true
   },
   "outputs": [],
   "source": [
    "import os\n",
    "\n",
    "os.getcwd()\n",
    "os.chdir('..')\n",
    "os.getcwd()\n",
    "os.chdir('share_tutorials')\n",
    "os.getcwd()"
   ]
  },
  {
   "cell_type": "code",
   "execution_count": null,
   "metadata": {
    "collapsed": true
   },
   "outputs": [],
   "source": [
    "import csv\n",
    "\n",
    "with open('names1.csv', 'w') as csvfile:\n",
    "    fieldnames = ['first_name', 'last_name']\n",
    "    writer = csv.DictWriter(csvfile, fieldnames=fieldnames)\n",
    "\n",
    "    writer.writeheader()\n",
    "    writer.writerow({'first_name': 'Baked', 'last_name': 'Beans'})\n",
    "    writer.writerow({'first_name': 'Lovely', 'last_name': 'Spam'})\n",
    "    writer.writerow({'first_name': 'Wonderful', 'last_name': 'Spam'})"
   ]
  }
 ],
 "metadata": {
  "anaconda-cloud": {},
  "kernelspec": {
   "display_name": "Python [Root]",
   "language": "python",
   "name": "Python [Root]"
  },
  "language_info": {
   "codemirror_mode": {
    "name": "ipython",
    "version": 3
   },
   "file_extension": ".py",
   "mimetype": "text/x-python",
   "name": "python",
   "nbconvert_exporter": "python",
   "pygments_lexer": "ipython3",
   "version": "3.5.2"
  }
 },
 "nbformat": 4,
 "nbformat_minor": 0
}
