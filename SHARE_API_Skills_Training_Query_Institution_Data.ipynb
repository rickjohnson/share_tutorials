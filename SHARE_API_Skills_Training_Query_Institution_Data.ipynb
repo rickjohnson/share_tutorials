{
 "cells": [
  {
   "cell_type": "markdown",
   "metadata": {},
   "source": [
    "Objectives of this Webinar:\n",
    "\n",
    "You will be able to query SHARE for records that are known to be tied to your institution, and might be tied to your institution.  You will then be able to export them to a csv file for review.\n",
    "\n",
    "Let's start in the "
   ]
  },
  {
   "cell_type": "markdown",
   "metadata": {},
   "source": [
    "Here we will set some values for Jupyter to use.\n",
    "\n",
    "Why all CAPS?\n",
    "\n",
    "It is convention (i.e., common practice) to use all capital letters when defining something that does not change?\n",
    "\n",
    "Why is this useful?\n",
    "\n",
    "Remember Drew Barrymore in '50 First Dates'?  You essentially need to tell\n",
    "\n",
    "Special Tip:  Put your cursor in the Cell (i.e., box) below and hit Shift+Enter on your keyboard to run it "
   ]
  },
  {
   "cell_type": "code",
   "execution_count": 11,
   "metadata": {
    "collapsed": true
   },
   "outputs": [],
   "source": [
    "SHARE_API = 'https://staging-share.osf.io/api/search/abstractcreativework/_search'\n",
    "PROD_SHARE_API= 'https://share.osf.io/api/search/abstractcreativework/_search'"
   ]
  },
  {
   "cell_type": "markdown",
   "metadata": {},
   "source": [
    "This is now in memory!  However, beware.  Just like Drew Barrymore if you close this notebook and reopen it, jupyter has completely forgotten about it, and you will need to rerun it for Jupyter to know about it."
   ]
  },
  {
   "cell_type": "markdown",
   "metadata": {},
   "source": [
    "Next, let's move onto a simple request."
   ]
  },
  {
   "cell_type": "code",
   "execution_count": 12,
   "metadata": {
    "collapsed": false
   },
   "outputs": [
    {
     "name": "stdout",
     "output_type": "stream",
     "text": [
      "The request URL is https://share.osf.io/api/search/abstractcreativework/_search?size=3\n",
      "----------\n",
      "SH078169.07FU\n",
      "Rhizophagus irregularis (B&#322;aszk., Wubet, Renker & Buscot) C. Walker & A. Schüßler -- from ['DataCite MDS']\n",
      "CCDC 1462836: Experimental Crystal Structure Determination -- from ['DataCite MDS']\n",
      "GBIF Occurrence Download -- from ['DataCite MDS']\n",
      "ТЕОРЕТИЧЕСКИЕ И ПРАКТИЧЕСКИЕ АСПЕКТЫ ПРИМЕНЕНИЯ НАНОТЕХНОЛОГИЙ ПРИ ПОДГОТОВКЕ СЕМЯН К ПОСЕВУ -- from ['CyberLeninka - Russian open access scientific library']\n",
      "ВНУТРИВУЗОВСКОЕ ЭЛЕКТРОННОЕ ПРОСТРАНСТВО НА ОСНОВЕ НОВЫХ ОБРАЗОВАТЕЛЬНЫХ ТЕХНОЛОГИЙ -- from ['CyberLeninka - Russian open access scientific library']\n",
      "ХИМИЧЕСКИЙ СОСТАВ ДРЕВЕСИНЫ ДУБА, ИСПОЛЬЗУЕМОЙ ДЛЯ ПРОИЗВОДСТВА КОНЬЯКА И БРЕНДИ -- from ['CyberLeninka - Russian open access scientific library']\n",
      "SH082013.07FU\n",
      "Trichaptum abietinum (Dicks.) Ryvarden -- from ['DataCite MDS']\n",
      "МЕТОД ОПРЕДЕЛЕНИЯ ВЫХОДА КОРОТКИХ ЗАГОТОВОК ИЗ ПИЛОМАТЕРИАЛОВ -- from ['CyberLeninka - Russian open access scientific library']\n",
      "К ВОПРОСУ ИЗУЧЕНИЯ ВОЗРАСТНЫХ ОСОБЕННОСТЕЙ СЕРДЕЧНОГО РИТМА У НАСЕЛЕНИЯ В УСЛОВИЯХ ЮЖНОГО ПРИАРАЛЬЯ -- from ['CyberLeninka - Russian open access scientific library']\n",
      "РЕАКЦИОННАЯ СПОСОБНОСТЬ РАЗЛИЧНЫХ ЦЕЛЛЮЛОЗОСОДЕРЖАЩИХ МАТЕРИАЛОВ ПРИ ФЕРМЕНТАТИВНОМ ГИДРОЛИЗЕ -- from ['CyberLeninka - Russian open access scientific library']\n"
     ]
    }
   ],
   "source": [
    "import furl\n",
    "import requests\n",
    "\n",
    "search_url = furl.furl(PROD_SHARE_API)\n",
    "search_url.args['size'] = 3\n",
    "recent_results = requests.get(search_url.url).json()\n",
    "\n",
    "recent_results = recent_results['hits']['hits']\n",
    "\n",
    "print('The request URL is {}'.format(search_url.url))\n",
    "print('----------')\n",
    "for result in recent_results:\n",
    "    print(\n",
    "        '{} -- from {}'.format(\n",
    "            result['_source']['title'],\n",
    "            result['_source']['sources']\n",
    "        )\n",
    "    )"
   ]
  },
  {
   "cell_type": "code",
   "execution_count": null,
   "metadata": {
    "collapsed": true
   },
   "outputs": [],
   "source": [
    "PROD_SHARE_API= 'https://share.osf.io/api/search/abstractcreativework/_search'"
   ]
  },
  {
   "cell_type": "markdown",
   "metadata": {},
   "source": [
    "Special Tip:  To print text and variables together use the format function as below with '{}' anywhere you want to insert a value and then include them in order to the format method."
   ]
  },
  {
   "cell_type": "code",
   "execution_count": 13,
   "metadata": {
    "collapsed": false
   },
   "outputs": [
    {
     "name": "stdout",
     "output_type": "stream",
     "text": [
      "The request URL is https://share.osf.io/api/search/abstractcreativework/_search?size=3&q=university+of+oregon\n",
      "---------\n",
      "SH078169.07FU\n",
      "Rhizophagus irregularis (B&#322;aszk., Wubet, Renker & Buscot) C. Walker & A. Schüßler -- from ['DataCite MDS']\n",
      "CCDC 1462836: Experimental Crystal Structure Determination -- from ['DataCite MDS']\n",
      "GBIF Occurrence Download -- from ['DataCite MDS']\n",
      "ТЕОРЕТИЧЕСКИЕ И ПРАКТИЧЕСКИЕ АСПЕКТЫ ПРИМЕНЕНИЯ НАНОТЕХНОЛОГИЙ ПРИ ПОДГОТОВКЕ СЕМЯН К ПОСЕВУ -- from ['CyberLeninka - Russian open access scientific library']\n",
      "ВНУТРИВУЗОВСКОЕ ЭЛЕКТРОННОЕ ПРОСТРАНСТВО НА ОСНОВЕ НОВЫХ ОБРАЗОВАТЕЛЬНЫХ ТЕХНОЛОГИЙ -- from ['CyberLeninka - Russian open access scientific library']\n",
      "ХИМИЧЕСКИЙ СОСТАВ ДРЕВЕСИНЫ ДУБА, ИСПОЛЬЗУЕМОЙ ДЛЯ ПРОИЗВОДСТВА КОНЬЯКА И БРЕНДИ -- from ['CyberLeninka - Russian open access scientific library']\n",
      "SH082013.07FU\n",
      "Trichaptum abietinum (Dicks.) Ryvarden -- from ['DataCite MDS']\n",
      "МЕТОД ОПРЕДЕЛЕНИЯ ВЫХОДА КОРОТКИХ ЗАГОТОВОК ИЗ ПИЛОМАТЕРИАЛОВ -- from ['CyberLeninka - Russian open access scientific library']\n",
      "К ВОПРОСУ ИЗУЧЕНИЯ ВОЗРАСТНЫХ ОСОБЕННОСТЕЙ СЕРДЕЧНОГО РИТМА У НАСЕЛЕНИЯ В УСЛОВИЯХ ЮЖНОГО ПРИАРАЛЬЯ -- from ['CyberLeninka - Russian open access scientific library']\n",
      "РЕАКЦИОННАЯ СПОСОБНОСТЬ РАЗЛИЧНЫХ ЦЕЛЛЮЛОЗОСОДЕРЖАЩИХ МАТЕРИАЛОВ ПРИ ФЕРМЕНТАТИВНОМ ГИДРОЛИЗЕ -- from ['CyberLeninka - Russian open access scientific library']\n"
     ]
    }
   ],
   "source": [
    "search_url.args['q'] = 'university of oregon'\n",
    "recent_results = requests.get(search_url.url).json()\n",
    "\n",
    "recent_results = recent_results['hits']['hits']\n",
    "\n",
    "print('The request URL is {}'.format(search_url.url))\n",
    "print('---------')\n",
    "for result in recent_results:\n",
    "    print(\n",
    "        '{} -- from {}'.format(\n",
    "            result['_source']['title'],\n",
    "            result['_source']['sources']\n",
    "        )\n",
    "    )"
   ]
  },
  {
   "cell_type": "code",
   "execution_count": 14,
   "metadata": {
    "collapsed": true
   },
   "outputs": [],
   "source": [
    "affiliation_query = {\n",
    "    \"query\": {\n",
    "        \"bool\": {\n",
    "            \"must\": {\n",
    "                \"query_string\": {\n",
    "                    \"query\": \"*\"\n",
    "                }\n",
    "            },\n",
    "            \"filter\": [\n",
    "                {\n",
    "                    \"term\": {\n",
    "                        \"institutions.raw\": \"University of Oregon Libraries\"\n",
    "                    }\n",
    "                }\n",
    "            ]\n",
    "        }\n",
    "    }\n",
    "}"
   ]
  },
  {
   "cell_type": "markdown",
   "metadata": {},
   "source": [
    "Special Tip: Use '#' before anything you want to put in as a comment"
   ]
  },
  {
   "cell_type": "code",
   "execution_count": 15,
   "metadata": {
    "collapsed": true
   },
   "outputs": [],
   "source": [
    "import json\n",
    "import requests\n",
    "\n",
    "def query_share(url, query):\n",
    "    # A helper function that will use the requests library,\n",
    "    # pass along the correct headers,\n",
    "    # and make the query we want\n",
    "    headers = {'Content-Type': 'application/json'}\n",
    "    data = json.dumps(query)\n",
    "    return requests.post(url, headers=headers, data=data, verify=False).json()"
   ]
  },
  {
   "cell_type": "code",
   "execution_count": 16,
   "metadata": {
    "collapsed": false
   },
   "outputs": [
    {
     "name": "stderr",
     "output_type": "stream",
     "text": [
      "/Users/rjohns14/anaconda/lib/python3.5/site-packages/requests/packages/urllib3/connectionpool.py:821: InsecureRequestWarning: Unverified HTTPS request is being made. Adding certificate verification is strongly advised. See: https://urllib3.readthedocs.org/en/latest/security.html\n",
      "  InsecureRequestWarning)\n",
      "/Users/rjohns14/anaconda/lib/python3.5/site-packages/requests/packages/urllib3/connectionpool.py:821: InsecureRequestWarning: Unverified HTTPS request is being made. Adding certificate verification is strongly advised. See: https://urllib3.readthedocs.org/en/latest/security.html\n",
      "  InsecureRequestWarning)\n"
     ]
    },
    {
     "name": "stdout",
     "output_type": "stream",
     "text": [
      "{'timed_out': False, '_shards': {'failed': 0, 'total': 5, 'successful': 5}, 'took': 1, 'hits': {'total': 2, 'max_score': 1.0, 'hits': [{'_score': 1.0, '_source': {'date': '2015-06-17T19:41:12+00:00', 'type': 'creativework', 'date_created': '2016-08-19T08:58:01.621579+00:00', 'contributors': [], 'date_published': None, 'is_deleted': False, 'subjects': [], 'institutions': ['University of Oregon Libraries'], 'date_updated': '2015-06-17T19:41:12+00:00', 'date_modified': '2016-08-19T08:58:01.621541+00:00', 'tags': ['libraries', 'program review', 'self-study', 'University Record', 'col_1794_3856', 'com_1794_151', 'com_1794_6373', 'com_1794_3855'], 'title': 'University of Oregon Library System Program Review', 'description': 'University of Oregon Libraries self-study from 1998.', 'sources': ['Scholars Bank University of Oregon'], 'lists': {'institutions': [{'type': 'institution', 'id': 59361, 'name': 'University of Oregon Libraries'}], 'links': [{'type': 'misc', 'url': 'http://hdl.handle.net/1794/12239'}], 'contributors': []}, 'language': None, 'id': 2577749}, '_id': '2577749', '_index': 'share', '_type': 'abstractcreativework'}, {'_score': 1.0, '_source': {'date': '2016-05-16T20:18:44+00:00', 'type': 'creativework', 'is_deleted': False, 'date_created': '2016-08-19T04:14:17.742376+00:00', 'contributors': [], 'date_published': None, 'publishers': ['Knight Library Press - digital editions'], 'subjects': [], 'institutions': ['University of Oregon Libraries'], 'date_updated': '2016-05-16T20:18:44+00:00', 'date_modified': '2016-08-19T04:14:17.742449+00:00', 'tags': ['Other', 'CDL.UOREGON', 'CDL'], 'title': 'Peripherica', 'description': '', 'sources': ['DataCite MDS'], 'lists': {'publishers': [{'type': 'publisher', 'id': 59363, 'name': 'Knight Library Press - digital editions'}], 'institutions': [{'type': 'institution', 'id': 59361, 'name': 'University of Oregon Libraries'}], 'links': [{'type': 'doi', 'url': 'http://dx.doi.org/10.7264/N3TD9VNT'}], 'contributors': []}, 'id': 1743547, 'language': None}, '_id': '1743547', '_index': 'share', '_type': 'abstractcreativework'}]}}\n",
      "------------\n",
      "------------\n",
      "{'total': 2, 'max_score': 1.0, 'hits': [{'_score': 1.0, '_source': {'date': '2015-06-17T19:41:12+00:00', 'type': 'creativework', 'date_created': '2016-08-19T08:58:01.621579+00:00', 'contributors': [], 'date_published': None, 'is_deleted': False, 'subjects': [], 'institutions': ['University of Oregon Libraries'], 'date_updated': '2015-06-17T19:41:12+00:00', 'date_modified': '2016-08-19T08:58:01.621541+00:00', 'tags': ['libraries', 'program review', 'self-study', 'University Record', 'col_1794_3856', 'com_1794_151', 'com_1794_6373', 'com_1794_3855'], 'title': 'University of Oregon Library System Program Review', 'description': 'University of Oregon Libraries self-study from 1998.', 'sources': ['Scholars Bank University of Oregon'], 'lists': {'institutions': [{'type': 'institution', 'id': 59361, 'name': 'University of Oregon Libraries'}], 'links': [{'type': 'misc', 'url': 'http://hdl.handle.net/1794/12239'}], 'contributors': []}, 'language': None, 'id': 2577749}, '_id': '2577749', '_index': 'share', '_type': 'abstractcreativework'}, {'_score': 1.0, '_source': {'date': '2016-05-16T20:18:44+00:00', 'type': 'creativework', 'is_deleted': False, 'date_created': '2016-08-19T04:14:17.742376+00:00', 'contributors': [], 'date_published': None, 'publishers': ['Knight Library Press - digital editions'], 'subjects': [], 'institutions': ['University of Oregon Libraries'], 'date_updated': '2016-05-16T20:18:44+00:00', 'date_modified': '2016-08-19T04:14:17.742449+00:00', 'tags': ['Other', 'CDL.UOREGON', 'CDL'], 'title': 'Peripherica', 'description': '', 'sources': ['DataCite MDS'], 'lists': {'publishers': [{'type': 'publisher', 'id': 59363, 'name': 'Knight Library Press - digital editions'}], 'institutions': [{'type': 'institution', 'id': 59361, 'name': 'University of Oregon Libraries'}], 'links': [{'type': 'doi', 'url': 'http://dx.doi.org/10.7264/N3TD9VNT'}], 'contributors': []}, 'id': 1743547, 'language': None}, '_id': '1743547', '_index': 'share', '_type': 'abstractcreativework'}]}\n",
      "------------\n",
      "------------\n",
      "[{'_score': 1.0, '_source': {'date': '2015-06-17T19:41:12+00:00', 'type': 'creativework', 'date_created': '2016-08-19T08:58:01.621579+00:00', 'contributors': [], 'date_published': None, 'is_deleted': False, 'subjects': [], 'institutions': ['University of Oregon Libraries'], 'date_updated': '2015-06-17T19:41:12+00:00', 'date_modified': '2016-08-19T08:58:01.621541+00:00', 'tags': ['libraries', 'program review', 'self-study', 'University Record', 'col_1794_3856', 'com_1794_151', 'com_1794_6373', 'com_1794_3855'], 'title': 'University of Oregon Library System Program Review', 'description': 'University of Oregon Libraries self-study from 1998.', 'sources': ['Scholars Bank University of Oregon'], 'lists': {'institutions': [{'type': 'institution', 'id': 59361, 'name': 'University of Oregon Libraries'}], 'links': [{'type': 'misc', 'url': 'http://hdl.handle.net/1794/12239'}], 'contributors': []}, 'language': None, 'id': 2577749}, '_id': '2577749', '_index': 'share', '_type': 'abstractcreativework'}, {'_score': 1.0, '_source': {'date': '2016-05-16T20:18:44+00:00', 'type': 'creativework', 'is_deleted': False, 'date_created': '2016-08-19T04:14:17.742376+00:00', 'contributors': [], 'date_published': None, 'publishers': ['Knight Library Press - digital editions'], 'subjects': [], 'institutions': ['University of Oregon Libraries'], 'date_updated': '2016-05-16T20:18:44+00:00', 'date_modified': '2016-08-19T04:14:17.742449+00:00', 'tags': ['Other', 'CDL.UOREGON', 'CDL'], 'title': 'Peripherica', 'description': '', 'sources': ['DataCite MDS'], 'lists': {'publishers': [{'type': 'publisher', 'id': 59363, 'name': 'Knight Library Press - digital editions'}], 'institutions': [{'type': 'institution', 'id': 59361, 'name': 'University of Oregon Libraries'}], 'links': [{'type': 'doi', 'url': 'http://dx.doi.org/10.7264/N3TD9VNT'}], 'contributors': []}, 'id': 1743547, 'language': None}, '_id': '1743547', '_index': 'share', '_type': 'abstractcreativework'}]\n",
      "------------\n",
      "------------\n",
      "dict_keys(['_score', '_source', '_id', '_index', '_type'])\n",
      "[{'_score': 1.0, '_source': {'date': '2015-06-17T19:41:12+00:00', 'type': 'creativework', 'date_created': '2016-08-19T08:58:01.621579+00:00', 'contributors': [], 'date_published': None, 'is_deleted': False, 'subjects': [], 'institutions': ['University of Oregon Libraries'], 'date_updated': '2015-06-17T19:41:12+00:00', 'date_modified': '2016-08-19T08:58:01.621541+00:00', 'tags': ['libraries', 'program review', 'self-study', 'University Record', 'col_1794_3856', 'com_1794_151', 'com_1794_6373', 'com_1794_3855'], 'title': 'University of Oregon Library System Program Review', 'description': 'University of Oregon Libraries self-study from 1998.', 'sources': ['Scholars Bank University of Oregon'], 'lists': {'institutions': [{'type': 'institution', 'id': 59361, 'name': 'University of Oregon Libraries'}], 'links': [{'type': 'misc', 'url': 'http://hdl.handle.net/1794/12239'}], 'contributors': []}, 'language': None, 'id': 2577749}, '_id': '2577749', '_index': 'share', '_type': 'abstractcreativework'}]\n",
      "2 results out of 10188614, or 0.00%, do NOT have tags.\n",
      "------------\n"
     ]
    }
   ],
   "source": [
    "#with_tags = query_share(search_url.url, tags_query)\n",
    "#missing_tags = query_share(search_url.url, missing_tags_query)\n",
    "affiliation_results = query_share(search_url.url, affiliation_query)\n",
    "print(affiliation_results)\n",
    "print('------------')\n",
    "print('------------')\n",
    "print(affiliation_results['hits'])\n",
    "print('------------')\n",
    "print('------------')\n",
    "print(affiliation_results['hits']['hits'])\n",
    "print('------------')\n",
    "print('------------')\n",
    "#print(affiliation_results['hits']['hits'].keys())\n",
    "row1 = affiliation_results['hits']['hits'].pop()\n",
    "print(row1.keys())\n",
    "print(affiliation_results['hits']['hits'])\n",
    "# it is not a flat list, so need to look at hierarchy to see how best to work with it\n",
    "# at more advanced stage interact with data in a way that keeps the hierarchical structure\n",
    "\n",
    "#error handling\n",
    "#if hits total > 0\n",
    "\n",
    "total_results = requests.get(search_url.url).json()['hits']['total']\n",
    "\n",
    "#with_tags_percent = (float(with_tags['hits']['total'])/total_results)*100\n",
    "#missing_tags_percent = (float(missing_tags['hits']['total'])/total_results)*100\n",
    "affiliation_results_percent = (float(affiliation_results['hits']['total'])/total_results)*100\n",
    "\n",
    "\n",
    "#print(\n",
    "#    '{} results out of {}, or {}%, have tags.'.format(\n",
    "#        with_tags['hits']['total'],\n",
    "#        total_results,\n",
    "#        format(with_tags_percent, '.2f')\n",
    "#    )\n",
    "#)\n",
    "\n",
    "#print(\n",
    "#    '{} results out of {}, or {}%, do NOT have tags.'.format(\n",
    "#        missing_tags['hits']['total'],\n",
    "#        total_results,\n",
    "#        format(missing_tags_percent, '.2f')\n",
    "#    )\n",
    "#)\n",
    "\n",
    "print(\n",
    "    '{} results out of {}, or {}%, do NOT have tags.'.format(\n",
    "        affiliation_results['hits']['total'],\n",
    "        total_results,\n",
    "        format(affiliation_results_percent, '.2f')\n",
    "    )\n",
    ")\n",
    "\n",
    "print('------------')\n"
   ]
  },
  {
   "cell_type": "code",
   "execution_count": null,
   "metadata": {
    "collapsed": true
   },
   "outputs": [],
   "source": [
    "print(affiliation_results['hits']['hits'])"
   ]
  },
  {
   "cell_type": "code",
   "execution_count": 17,
   "metadata": {
    "collapsed": false
   },
   "outputs": [
    {
     "name": "stderr",
     "output_type": "stream",
     "text": [
      "/Users/rjohns14/anaconda/lib/python3.5/site-packages/requests/packages/urllib3/connectionpool.py:821: InsecureRequestWarning: Unverified HTTPS request is being made. Adding certificate verification is strongly advised. See: https://urllib3.readthedocs.org/en/latest/security.html\n",
      "  InsecureRequestWarning)\n",
      "/Users/rjohns14/anaconda/lib/python3.5/site-packages/requests/packages/urllib3/connectionpool.py:821: InsecureRequestWarning: Unverified HTTPS request is being made. Adding certificate verification is strongly advised. See: https://urllib3.readthedocs.org/en/latest/security.html\n",
      "  InsecureRequestWarning)\n"
     ]
    },
    {
     "name": "stdout",
     "output_type": "stream",
     "text": [
      "{'timed_out': False, '_shards': {'failed': 0, 'total': 5, 'successful': 5}, 'took': 1, 'hits': {'total': 2, 'max_score': 1.0, 'hits': [{'_score': 1.0, '_source': {'date': '2015-06-17T19:41:12+00:00', 'type': 'creativework', 'date_created': '2016-08-19T08:58:01.621579+00:00', 'contributors': [], 'date_published': None, 'is_deleted': False, 'subjects': [], 'institutions': ['University of Oregon Libraries'], 'date_updated': '2015-06-17T19:41:12+00:00', 'date_modified': '2016-08-19T08:58:01.621541+00:00', 'tags': ['libraries', 'program review', 'self-study', 'University Record', 'col_1794_3856', 'com_1794_151', 'com_1794_6373', 'com_1794_3855'], 'title': 'University of Oregon Library System Program Review', 'description': 'University of Oregon Libraries self-study from 1998.', 'sources': ['Scholars Bank University of Oregon'], 'lists': {'institutions': [{'type': 'institution', 'id': 59361, 'name': 'University of Oregon Libraries'}], 'links': [{'type': 'misc', 'url': 'http://hdl.handle.net/1794/12239'}], 'contributors': []}, 'language': None, 'id': 2577749}, '_id': '2577749', '_index': 'share', '_type': 'abstractcreativework'}, {'_score': 1.0, '_source': {'date': '2016-05-16T20:18:44+00:00', 'type': 'creativework', 'is_deleted': False, 'date_created': '2016-08-19T04:14:17.742376+00:00', 'contributors': [], 'date_published': None, 'publishers': ['Knight Library Press - digital editions'], 'subjects': [], 'institutions': ['University of Oregon Libraries'], 'date_updated': '2016-05-16T20:18:44+00:00', 'date_modified': '2016-08-19T04:14:17.742449+00:00', 'tags': ['Other', 'CDL.UOREGON', 'CDL'], 'title': 'Peripherica', 'description': '', 'sources': ['DataCite MDS'], 'lists': {'publishers': [{'type': 'publisher', 'id': 59363, 'name': 'Knight Library Press - digital editions'}], 'institutions': [{'type': 'institution', 'id': 59361, 'name': 'University of Oregon Libraries'}], 'links': [{'type': 'doi', 'url': 'http://dx.doi.org/10.7264/N3TD9VNT'}], 'contributors': []}, 'id': 1743547, 'language': None}, '_id': '1743547', '_index': 'share', '_type': 'abstractcreativework'}]}}\n"
     ]
    }
   ],
   "source": [
    "affiliation_results = query_share(search_url.url, affiliation_query)\n",
    "print(affiliation_results)"
   ]
  },
  {
   "cell_type": "code",
   "execution_count": 18,
   "metadata": {
    "collapsed": false
   },
   "outputs": [
    {
     "name": "stderr",
     "output_type": "stream",
     "text": [
      "/Users/rjohns14/anaconda/lib/python3.5/site-packages/requests/packages/urllib3/connectionpool.py:821: InsecureRequestWarning: Unverified HTTPS request is being made. Adding certificate verification is strongly advised. See: https://urllib3.readthedocs.org/en/latest/security.html\n",
      "  InsecureRequestWarning)\n",
      "/Users/rjohns14/anaconda/lib/python3.5/site-packages/requests/packages/urllib3/connectionpool.py:821: InsecureRequestWarning: Unverified HTTPS request is being made. Adding certificate verification is strongly advised. See: https://urllib3.readthedocs.org/en/latest/security.html\n",
      "  InsecureRequestWarning)\n"
     ]
    },
    {
     "name": "stdout",
     "output_type": "stream",
     "text": [
      "{'total': 2, 'max_score': 1.0, 'hits': [{'_score': 1.0, '_source': {'date': '2015-06-17T19:41:12+00:00', 'type': 'creativework', 'date_created': '2016-08-19T08:58:01.621579+00:00', 'contributors': [], 'date_published': None, 'is_deleted': False, 'subjects': [], 'institutions': ['University of Oregon Libraries'], 'date_updated': '2015-06-17T19:41:12+00:00', 'date_modified': '2016-08-19T08:58:01.621541+00:00', 'tags': ['libraries', 'program review', 'self-study', 'University Record', 'col_1794_3856', 'com_1794_151', 'com_1794_6373', 'com_1794_3855'], 'title': 'University of Oregon Library System Program Review', 'description': 'University of Oregon Libraries self-study from 1998.', 'sources': ['Scholars Bank University of Oregon'], 'lists': {'institutions': [{'type': 'institution', 'id': 59361, 'name': 'University of Oregon Libraries'}], 'links': [{'type': 'misc', 'url': 'http://hdl.handle.net/1794/12239'}], 'contributors': []}, 'language': None, 'id': 2577749}, '_id': '2577749', '_index': 'share', '_type': 'abstractcreativework'}, {'_score': 1.0, '_source': {'date': '2016-05-16T20:18:44+00:00', 'type': 'creativework', 'is_deleted': False, 'date_created': '2016-08-19T04:14:17.742376+00:00', 'contributors': [], 'date_published': None, 'publishers': ['Knight Library Press - digital editions'], 'subjects': [], 'institutions': ['University of Oregon Libraries'], 'date_updated': '2016-05-16T20:18:44+00:00', 'date_modified': '2016-08-19T04:14:17.742449+00:00', 'tags': ['Other', 'CDL.UOREGON', 'CDL'], 'title': 'Peripherica', 'description': '', 'sources': ['DataCite MDS'], 'lists': {'publishers': [{'type': 'publisher', 'id': 59363, 'name': 'Knight Library Press - digital editions'}], 'institutions': [{'type': 'institution', 'id': 59361, 'name': 'University of Oregon Libraries'}], 'links': [{'type': 'doi', 'url': 'http://dx.doi.org/10.7264/N3TD9VNT'}], 'contributors': []}, 'id': 1743547, 'language': None}, '_id': '1743547', '_index': 'share', '_type': 'abstractcreativework'}]}\n"
     ]
    }
   ],
   "source": [
    "affiliation_results = query_share(search_url.url, affiliation_query)\n",
    "print(affiliation_results['hits'])"
   ]
  },
  {
   "cell_type": "code",
   "execution_count": 19,
   "metadata": {
    "collapsed": false
   },
   "outputs": [
    {
     "name": "stderr",
     "output_type": "stream",
     "text": [
      "/Users/rjohns14/anaconda/lib/python3.5/site-packages/requests/packages/urllib3/connectionpool.py:821: InsecureRequestWarning: Unverified HTTPS request is being made. Adding certificate verification is strongly advised. See: https://urllib3.readthedocs.org/en/latest/security.html\n",
      "  InsecureRequestWarning)\n",
      "/Users/rjohns14/anaconda/lib/python3.5/site-packages/requests/packages/urllib3/connectionpool.py:821: InsecureRequestWarning: Unverified HTTPS request is being made. Adding certificate verification is strongly advised. See: https://urllib3.readthedocs.org/en/latest/security.html\n",
      "  InsecureRequestWarning)\n"
     ]
    },
    {
     "name": "stdout",
     "output_type": "stream",
     "text": [
      "[{'_score': 1.0, '_source': {'date': '2015-06-17T19:41:12+00:00', 'type': 'creativework', 'date_created': '2016-08-19T08:58:01.621579+00:00', 'contributors': [], 'date_published': None, 'is_deleted': False, 'subjects': [], 'institutions': ['University of Oregon Libraries'], 'date_updated': '2015-06-17T19:41:12+00:00', 'date_modified': '2016-08-19T08:58:01.621541+00:00', 'tags': ['libraries', 'program review', 'self-study', 'University Record', 'col_1794_3856', 'com_1794_151', 'com_1794_6373', 'com_1794_3855'], 'title': 'University of Oregon Library System Program Review', 'description': 'University of Oregon Libraries self-study from 1998.', 'sources': ['Scholars Bank University of Oregon'], 'lists': {'institutions': [{'type': 'institution', 'id': 59361, 'name': 'University of Oregon Libraries'}], 'links': [{'type': 'misc', 'url': 'http://hdl.handle.net/1794/12239'}], 'contributors': []}, 'id': 2577749, 'language': None}, '_id': '2577749', '_index': 'share', '_type': 'abstractcreativework'}, {'_score': 1.0, '_source': {'date': '2016-05-16T20:18:44+00:00', 'type': 'creativework', 'publishers': ['Knight Library Press - digital editions'], 'date_created': '2016-08-19T04:14:17.742376+00:00', 'contributors': [], 'date_published': None, 'is_deleted': False, 'subjects': [], 'institutions': ['University of Oregon Libraries'], 'date_updated': '2016-05-16T20:18:44+00:00', 'date_modified': '2016-08-19T04:14:17.742449+00:00', 'tags': ['Other', 'CDL.UOREGON', 'CDL'], 'title': 'Peripherica', 'description': '', 'sources': ['DataCite MDS'], 'lists': {'publishers': [{'type': 'publisher', 'id': 59363, 'name': 'Knight Library Press - digital editions'}], 'institutions': [{'type': 'institution', 'id': 59361, 'name': 'University of Oregon Libraries'}], 'links': [{'type': 'doi', 'url': 'http://dx.doi.org/10.7264/N3TD9VNT'}], 'contributors': []}, 'id': 1743547, 'language': None}, '_id': '1743547', '_index': 'share', '_type': 'abstractcreativework'}]\n"
     ]
    }
   ],
   "source": [
    "affiliation_results = query_share(search_url.url, affiliation_query)\n",
    "print(affiliation_results['hits']['hits'])"
   ]
  },
  {
   "cell_type": "code",
   "execution_count": 24,
   "metadata": {
    "collapsed": false
   },
   "outputs": [
    {
     "name": "stderr",
     "output_type": "stream",
     "text": [
      "/Users/rjohns14/anaconda/lib/python3.5/site-packages/requests/packages/urllib3/connectionpool.py:821: InsecureRequestWarning: Unverified HTTPS request is being made. Adding certificate verification is strongly advised. See: https://urllib3.readthedocs.org/en/latest/security.html\n",
      "  InsecureRequestWarning)\n",
      "/Users/rjohns14/anaconda/lib/python3.5/site-packages/requests/packages/urllib3/connectionpool.py:821: InsecureRequestWarning: Unverified HTTPS request is being made. Adding certificate verification is strongly advised. See: https://urllib3.readthedocs.org/en/latest/security.html\n",
      "  InsecureRequestWarning)\n"
     ]
    },
    {
     "name": "stdout",
     "output_type": "stream",
     "text": [
      "dict_keys(['_score', '_index', '_id', '_source', '_type'])\n",
      "total results found: 2\n"
     ]
    }
   ],
   "source": [
    "affiliation_results = query_share(search_url.url, affiliation_query)\n",
    "row1 = affiliation_results['hits']['hits'].pop()\n",
    "print(row1.keys())\n",
    "print('total results found: {}'.format(affiliation_results['hits']['total']))\n"
   ]
  },
  {
   "cell_type": "code",
   "execution_count": 28,
   "metadata": {
    "collapsed": false
   },
   "outputs": [
    {
     "name": "stderr",
     "output_type": "stream",
     "text": [
      "/Users/rjohns14/anaconda/lib/python3.5/site-packages/requests/packages/urllib3/connectionpool.py:821: InsecureRequestWarning: Unverified HTTPS request is being made. Adding certificate verification is strongly advised. See: https://urllib3.readthedocs.org/en/latest/security.html\n",
      "  InsecureRequestWarning)\n",
      "/Users/rjohns14/anaconda/lib/python3.5/site-packages/requests/packages/urllib3/connectionpool.py:821: InsecureRequestWarning: Unverified HTTPS request is being made. Adding certificate verification is strongly advised. See: https://urllib3.readthedocs.org/en/latest/security.html\n",
      "  InsecureRequestWarning)\n"
     ]
    },
    {
     "name": "stdout",
     "output_type": "stream",
     "text": [
      "[{'_score': 1.0, '_index': 'share', '_id': '2577749', '_source': {'date': '2015-06-17T19:41:12+00:00', 'type': 'creativework', 'date_created': '2016-08-19T08:58:01.621579+00:00', 'contributors': [], 'date_published': None, 'is_deleted': False, 'subjects': [], 'institutions': ['University of Oregon Libraries'], 'date_updated': '2015-06-17T19:41:12+00:00', 'date_modified': '2016-08-19T08:58:01.621541+00:00', 'tags': ['libraries', 'program review', 'self-study', 'University Record', 'col_1794_3856', 'com_1794_151', 'com_1794_6373', 'com_1794_3855'], 'title': 'University of Oregon Library System Program Review', 'description': 'University of Oregon Libraries self-study from 1998.', 'sources': ['Scholars Bank University of Oregon'], 'lists': {'institutions': [{'id': 59361, 'type': 'institution', 'name': 'University of Oregon Libraries'}], 'links': [{'type': 'misc', 'url': 'http://hdl.handle.net/1794/12239'}], 'contributors': []}, 'language': None, 'id': 2577749}, '_type': 'abstractcreativework'}]\n",
      "dict_keys(['_score', '_index', '_id', '_source', '_type'])\n",
      "dict_keys(['date', 'type', 'publishers', 'date_created', 'contributors', 'date_published', 'is_deleted', 'subjects', 'institutions', 'date_updated', 'date_modified', 'tags', 'title', 'description', 'sources', 'lists', 'language', 'id'])\n",
      "total results found: 2\n"
     ]
    }
   ],
   "source": [
    "affiliation_results = query_share(search_url.url, affiliation_query)\n",
    "row1 = affiliation_results['hits']['hits'].pop()\n",
    "print(affiliation_results['hits']['hits'])\n",
    "print(row1.keys())\n",
    "print(row1['_source'].keys())\n",
    "print('total results found: {}'.format(affiliation_results['hits']['total']))"
   ]
  },
  {
   "cell_type": "code",
   "execution_count": null,
   "metadata": {
    "collapsed": true
   },
   "outputs": [],
   "source": [
    "affiliation_results = query_share(search_url.url, affiliation_query)\n",
    "row1 = affiliation_results['hits']['hits'].pop()\n",
    "print(affiliation_results['hits']['hits'])\n",
    "print(row1.keys())\n",
    "print(row1['_source'].keys())\n",
    "print('total results found: {}'.format(affiliation_results['hits']['total']))"
   ]
  },
  {
   "cell_type": "code",
   "execution_count": 32,
   "metadata": {
    "collapsed": false
   },
   "outputs": [
    {
     "name": "stdout",
     "output_type": "stream",
     "text": [
      "_score\n",
      "_index\n",
      "_id\n",
      "_source\n",
      "_type\n"
     ]
    }
   ],
   "source": [
    "#get the keys\n",
    "for key in row1.keys():\n",
    "    print(key)"
   ]
  },
  {
   "cell_type": "code",
   "execution_count": 33,
   "metadata": {
    "collapsed": false
   },
   "outputs": [
    {
     "name": "stdout",
     "output_type": "stream",
     "text": [
      "1.0\n",
      "share\n",
      "1743547\n",
      "{'date': '2016-05-16T20:18:44+00:00', 'type': 'creativework', 'publishers': ['Knight Library Press - digital editions'], 'date_created': '2016-08-19T04:14:17.742376+00:00', 'contributors': [], 'date_published': None, 'is_deleted': False, 'subjects': [], 'institutions': ['University of Oregon Libraries'], 'date_updated': '2016-05-16T20:18:44+00:00', 'date_modified': '2016-08-19T04:14:17.742449+00:00', 'tags': ['Other', 'CDL.UOREGON', 'CDL'], 'title': 'Peripherica', 'description': '', 'sources': ['DataCite MDS'], 'lists': {'publishers': [{'id': 59363, 'type': 'publisher', 'name': 'Knight Library Press - digital editions'}], 'institutions': [{'id': 59361, 'type': 'institution', 'name': 'University of Oregon Libraries'}], 'links': [{'type': 'doi', 'url': 'http://dx.doi.org/10.7264/N3TD9VNT'}], 'contributors': []}, 'language': None, 'id': 1743547}\n",
      "abstractcreativework\n"
     ]
    }
   ],
   "source": [
    "#get the values\n",
    "for key in row1.keys():\n",
    "    print(row1[key])"
   ]
  },
  {
   "cell_type": "code",
   "execution_count": 34,
   "metadata": {
    "collapsed": false
   },
   "outputs": [
    {
     "name": "stdout",
     "output_type": "stream",
     "text": [
      "_score:1.0\n",
      "_index:share\n",
      "_id:1743547\n",
      "_source:{'date': '2016-05-16T20:18:44+00:00', 'type': 'creativework', 'publishers': ['Knight Library Press - digital editions'], 'date_created': '2016-08-19T04:14:17.742376+00:00', 'contributors': [], 'date_published': None, 'is_deleted': False, 'subjects': [], 'institutions': ['University of Oregon Libraries'], 'date_updated': '2016-05-16T20:18:44+00:00', 'date_modified': '2016-08-19T04:14:17.742449+00:00', 'tags': ['Other', 'CDL.UOREGON', 'CDL'], 'title': 'Peripherica', 'description': '', 'sources': ['DataCite MDS'], 'lists': {'publishers': [{'id': 59363, 'type': 'publisher', 'name': 'Knight Library Press - digital editions'}], 'institutions': [{'id': 59361, 'type': 'institution', 'name': 'University of Oregon Libraries'}], 'links': [{'type': 'doi', 'url': 'http://dx.doi.org/10.7264/N3TD9VNT'}], 'contributors': []}, 'language': None, 'id': 1743547}\n",
      "_type:abstractcreativework\n"
     ]
    }
   ],
   "source": [
    "#put keys and values together\n",
    "for key in row1.keys():\n",
    "    print('{}:{}'.format(key,row1[key]))"
   ]
  },
  {
   "cell_type": "code",
   "execution_count": 39,
   "metadata": {
    "collapsed": false
   },
   "outputs": [
    {
     "name": "stdout",
     "output_type": "stream",
     "text": [
      "date:{'date': '2016-05-16T20:18:44+00:00', 'type': 'creativework', 'publishers': ['Knight Library Press - digital editions'], 'date_created': '2016-08-19T04:14:17.742376+00:00', 'contributors': [], 'date_published': None, 'is_deleted': False, 'subjects': [], 'institutions': ['University of Oregon Libraries'], 'date_updated': '2016-05-16T20:18:44+00:00', 'date_modified': '2016-08-19T04:14:17.742449+00:00', 'tags': ['Other', 'CDL.UOREGON', 'CDL'], 'title': 'Peripherica', 'description': '', 'sources': ['DataCite MDS'], 'lists': {'publishers': [{'id': 59363, 'type': 'publisher', 'name': 'Knight Library Press - digital editions'}], 'institutions': [{'id': 59361, 'type': 'institution', 'name': 'University of Oregon Libraries'}], 'links': [{'type': 'doi', 'url': 'http://dx.doi.org/10.7264/N3TD9VNT'}], 'contributors': []}, 'language': None, 'id': 1743547}\n",
      "\n",
      "type:{'date': '2016-05-16T20:18:44+00:00', 'type': 'creativework', 'publishers': ['Knight Library Press - digital editions'], 'date_created': '2016-08-19T04:14:17.742376+00:00', 'contributors': [], 'date_published': None, 'is_deleted': False, 'subjects': [], 'institutions': ['University of Oregon Libraries'], 'date_updated': '2016-05-16T20:18:44+00:00', 'date_modified': '2016-08-19T04:14:17.742449+00:00', 'tags': ['Other', 'CDL.UOREGON', 'CDL'], 'title': 'Peripherica', 'description': '', 'sources': ['DataCite MDS'], 'lists': {'publishers': [{'id': 59363, 'type': 'publisher', 'name': 'Knight Library Press - digital editions'}], 'institutions': [{'id': 59361, 'type': 'institution', 'name': 'University of Oregon Libraries'}], 'links': [{'type': 'doi', 'url': 'http://dx.doi.org/10.7264/N3TD9VNT'}], 'contributors': []}, 'language': None, 'id': 1743547}\n",
      "\n",
      "publishers:{'date': '2016-05-16T20:18:44+00:00', 'type': 'creativework', 'publishers': ['Knight Library Press - digital editions'], 'date_created': '2016-08-19T04:14:17.742376+00:00', 'contributors': [], 'date_published': None, 'is_deleted': False, 'subjects': [], 'institutions': ['University of Oregon Libraries'], 'date_updated': '2016-05-16T20:18:44+00:00', 'date_modified': '2016-08-19T04:14:17.742449+00:00', 'tags': ['Other', 'CDL.UOREGON', 'CDL'], 'title': 'Peripherica', 'description': '', 'sources': ['DataCite MDS'], 'lists': {'publishers': [{'id': 59363, 'type': 'publisher', 'name': 'Knight Library Press - digital editions'}], 'institutions': [{'id': 59361, 'type': 'institution', 'name': 'University of Oregon Libraries'}], 'links': [{'type': 'doi', 'url': 'http://dx.doi.org/10.7264/N3TD9VNT'}], 'contributors': []}, 'language': None, 'id': 1743547}\n",
      "\n",
      "date_created:{'date': '2016-05-16T20:18:44+00:00', 'type': 'creativework', 'publishers': ['Knight Library Press - digital editions'], 'date_created': '2016-08-19T04:14:17.742376+00:00', 'contributors': [], 'date_published': None, 'is_deleted': False, 'subjects': [], 'institutions': ['University of Oregon Libraries'], 'date_updated': '2016-05-16T20:18:44+00:00', 'date_modified': '2016-08-19T04:14:17.742449+00:00', 'tags': ['Other', 'CDL.UOREGON', 'CDL'], 'title': 'Peripherica', 'description': '', 'sources': ['DataCite MDS'], 'lists': {'publishers': [{'id': 59363, 'type': 'publisher', 'name': 'Knight Library Press - digital editions'}], 'institutions': [{'id': 59361, 'type': 'institution', 'name': 'University of Oregon Libraries'}], 'links': [{'type': 'doi', 'url': 'http://dx.doi.org/10.7264/N3TD9VNT'}], 'contributors': []}, 'language': None, 'id': 1743547}\n",
      "\n",
      "contributors:{'date': '2016-05-16T20:18:44+00:00', 'type': 'creativework', 'publishers': ['Knight Library Press - digital editions'], 'date_created': '2016-08-19T04:14:17.742376+00:00', 'contributors': [], 'date_published': None, 'is_deleted': False, 'subjects': [], 'institutions': ['University of Oregon Libraries'], 'date_updated': '2016-05-16T20:18:44+00:00', 'date_modified': '2016-08-19T04:14:17.742449+00:00', 'tags': ['Other', 'CDL.UOREGON', 'CDL'], 'title': 'Peripherica', 'description': '', 'sources': ['DataCite MDS'], 'lists': {'publishers': [{'id': 59363, 'type': 'publisher', 'name': 'Knight Library Press - digital editions'}], 'institutions': [{'id': 59361, 'type': 'institution', 'name': 'University of Oregon Libraries'}], 'links': [{'type': 'doi', 'url': 'http://dx.doi.org/10.7264/N3TD9VNT'}], 'contributors': []}, 'language': None, 'id': 1743547}\n",
      "\n",
      "date_published:{'date': '2016-05-16T20:18:44+00:00', 'type': 'creativework', 'publishers': ['Knight Library Press - digital editions'], 'date_created': '2016-08-19T04:14:17.742376+00:00', 'contributors': [], 'date_published': None, 'is_deleted': False, 'subjects': [], 'institutions': ['University of Oregon Libraries'], 'date_updated': '2016-05-16T20:18:44+00:00', 'date_modified': '2016-08-19T04:14:17.742449+00:00', 'tags': ['Other', 'CDL.UOREGON', 'CDL'], 'title': 'Peripherica', 'description': '', 'sources': ['DataCite MDS'], 'lists': {'publishers': [{'id': 59363, 'type': 'publisher', 'name': 'Knight Library Press - digital editions'}], 'institutions': [{'id': 59361, 'type': 'institution', 'name': 'University of Oregon Libraries'}], 'links': [{'type': 'doi', 'url': 'http://dx.doi.org/10.7264/N3TD9VNT'}], 'contributors': []}, 'language': None, 'id': 1743547}\n",
      "\n",
      "is_deleted:{'date': '2016-05-16T20:18:44+00:00', 'type': 'creativework', 'publishers': ['Knight Library Press - digital editions'], 'date_created': '2016-08-19T04:14:17.742376+00:00', 'contributors': [], 'date_published': None, 'is_deleted': False, 'subjects': [], 'institutions': ['University of Oregon Libraries'], 'date_updated': '2016-05-16T20:18:44+00:00', 'date_modified': '2016-08-19T04:14:17.742449+00:00', 'tags': ['Other', 'CDL.UOREGON', 'CDL'], 'title': 'Peripherica', 'description': '', 'sources': ['DataCite MDS'], 'lists': {'publishers': [{'id': 59363, 'type': 'publisher', 'name': 'Knight Library Press - digital editions'}], 'institutions': [{'id': 59361, 'type': 'institution', 'name': 'University of Oregon Libraries'}], 'links': [{'type': 'doi', 'url': 'http://dx.doi.org/10.7264/N3TD9VNT'}], 'contributors': []}, 'language': None, 'id': 1743547}\n",
      "\n",
      "subjects:{'date': '2016-05-16T20:18:44+00:00', 'type': 'creativework', 'publishers': ['Knight Library Press - digital editions'], 'date_created': '2016-08-19T04:14:17.742376+00:00', 'contributors': [], 'date_published': None, 'is_deleted': False, 'subjects': [], 'institutions': ['University of Oregon Libraries'], 'date_updated': '2016-05-16T20:18:44+00:00', 'date_modified': '2016-08-19T04:14:17.742449+00:00', 'tags': ['Other', 'CDL.UOREGON', 'CDL'], 'title': 'Peripherica', 'description': '', 'sources': ['DataCite MDS'], 'lists': {'publishers': [{'id': 59363, 'type': 'publisher', 'name': 'Knight Library Press - digital editions'}], 'institutions': [{'id': 59361, 'type': 'institution', 'name': 'University of Oregon Libraries'}], 'links': [{'type': 'doi', 'url': 'http://dx.doi.org/10.7264/N3TD9VNT'}], 'contributors': []}, 'language': None, 'id': 1743547}\n",
      "\n",
      "institutions:{'date': '2016-05-16T20:18:44+00:00', 'type': 'creativework', 'publishers': ['Knight Library Press - digital editions'], 'date_created': '2016-08-19T04:14:17.742376+00:00', 'contributors': [], 'date_published': None, 'is_deleted': False, 'subjects': [], 'institutions': ['University of Oregon Libraries'], 'date_updated': '2016-05-16T20:18:44+00:00', 'date_modified': '2016-08-19T04:14:17.742449+00:00', 'tags': ['Other', 'CDL.UOREGON', 'CDL'], 'title': 'Peripherica', 'description': '', 'sources': ['DataCite MDS'], 'lists': {'publishers': [{'id': 59363, 'type': 'publisher', 'name': 'Knight Library Press - digital editions'}], 'institutions': [{'id': 59361, 'type': 'institution', 'name': 'University of Oregon Libraries'}], 'links': [{'type': 'doi', 'url': 'http://dx.doi.org/10.7264/N3TD9VNT'}], 'contributors': []}, 'language': None, 'id': 1743547}\n",
      "\n",
      "date_updated:{'date': '2016-05-16T20:18:44+00:00', 'type': 'creativework', 'publishers': ['Knight Library Press - digital editions'], 'date_created': '2016-08-19T04:14:17.742376+00:00', 'contributors': [], 'date_published': None, 'is_deleted': False, 'subjects': [], 'institutions': ['University of Oregon Libraries'], 'date_updated': '2016-05-16T20:18:44+00:00', 'date_modified': '2016-08-19T04:14:17.742449+00:00', 'tags': ['Other', 'CDL.UOREGON', 'CDL'], 'title': 'Peripherica', 'description': '', 'sources': ['DataCite MDS'], 'lists': {'publishers': [{'id': 59363, 'type': 'publisher', 'name': 'Knight Library Press - digital editions'}], 'institutions': [{'id': 59361, 'type': 'institution', 'name': 'University of Oregon Libraries'}], 'links': [{'type': 'doi', 'url': 'http://dx.doi.org/10.7264/N3TD9VNT'}], 'contributors': []}, 'language': None, 'id': 1743547}\n",
      "\n",
      "date_modified:{'date': '2016-05-16T20:18:44+00:00', 'type': 'creativework', 'publishers': ['Knight Library Press - digital editions'], 'date_created': '2016-08-19T04:14:17.742376+00:00', 'contributors': [], 'date_published': None, 'is_deleted': False, 'subjects': [], 'institutions': ['University of Oregon Libraries'], 'date_updated': '2016-05-16T20:18:44+00:00', 'date_modified': '2016-08-19T04:14:17.742449+00:00', 'tags': ['Other', 'CDL.UOREGON', 'CDL'], 'title': 'Peripherica', 'description': '', 'sources': ['DataCite MDS'], 'lists': {'publishers': [{'id': 59363, 'type': 'publisher', 'name': 'Knight Library Press - digital editions'}], 'institutions': [{'id': 59361, 'type': 'institution', 'name': 'University of Oregon Libraries'}], 'links': [{'type': 'doi', 'url': 'http://dx.doi.org/10.7264/N3TD9VNT'}], 'contributors': []}, 'language': None, 'id': 1743547}\n",
      "\n",
      "tags:{'date': '2016-05-16T20:18:44+00:00', 'type': 'creativework', 'publishers': ['Knight Library Press - digital editions'], 'date_created': '2016-08-19T04:14:17.742376+00:00', 'contributors': [], 'date_published': None, 'is_deleted': False, 'subjects': [], 'institutions': ['University of Oregon Libraries'], 'date_updated': '2016-05-16T20:18:44+00:00', 'date_modified': '2016-08-19T04:14:17.742449+00:00', 'tags': ['Other', 'CDL.UOREGON', 'CDL'], 'title': 'Peripherica', 'description': '', 'sources': ['DataCite MDS'], 'lists': {'publishers': [{'id': 59363, 'type': 'publisher', 'name': 'Knight Library Press - digital editions'}], 'institutions': [{'id': 59361, 'type': 'institution', 'name': 'University of Oregon Libraries'}], 'links': [{'type': 'doi', 'url': 'http://dx.doi.org/10.7264/N3TD9VNT'}], 'contributors': []}, 'language': None, 'id': 1743547}\n",
      "\n",
      "title:{'date': '2016-05-16T20:18:44+00:00', 'type': 'creativework', 'publishers': ['Knight Library Press - digital editions'], 'date_created': '2016-08-19T04:14:17.742376+00:00', 'contributors': [], 'date_published': None, 'is_deleted': False, 'subjects': [], 'institutions': ['University of Oregon Libraries'], 'date_updated': '2016-05-16T20:18:44+00:00', 'date_modified': '2016-08-19T04:14:17.742449+00:00', 'tags': ['Other', 'CDL.UOREGON', 'CDL'], 'title': 'Peripherica', 'description': '', 'sources': ['DataCite MDS'], 'lists': {'publishers': [{'id': 59363, 'type': 'publisher', 'name': 'Knight Library Press - digital editions'}], 'institutions': [{'id': 59361, 'type': 'institution', 'name': 'University of Oregon Libraries'}], 'links': [{'type': 'doi', 'url': 'http://dx.doi.org/10.7264/N3TD9VNT'}], 'contributors': []}, 'language': None, 'id': 1743547}\n",
      "\n",
      "description:{'date': '2016-05-16T20:18:44+00:00', 'type': 'creativework', 'publishers': ['Knight Library Press - digital editions'], 'date_created': '2016-08-19T04:14:17.742376+00:00', 'contributors': [], 'date_published': None, 'is_deleted': False, 'subjects': [], 'institutions': ['University of Oregon Libraries'], 'date_updated': '2016-05-16T20:18:44+00:00', 'date_modified': '2016-08-19T04:14:17.742449+00:00', 'tags': ['Other', 'CDL.UOREGON', 'CDL'], 'title': 'Peripherica', 'description': '', 'sources': ['DataCite MDS'], 'lists': {'publishers': [{'id': 59363, 'type': 'publisher', 'name': 'Knight Library Press - digital editions'}], 'institutions': [{'id': 59361, 'type': 'institution', 'name': 'University of Oregon Libraries'}], 'links': [{'type': 'doi', 'url': 'http://dx.doi.org/10.7264/N3TD9VNT'}], 'contributors': []}, 'language': None, 'id': 1743547}\n",
      "\n",
      "sources:{'date': '2016-05-16T20:18:44+00:00', 'type': 'creativework', 'publishers': ['Knight Library Press - digital editions'], 'date_created': '2016-08-19T04:14:17.742376+00:00', 'contributors': [], 'date_published': None, 'is_deleted': False, 'subjects': [], 'institutions': ['University of Oregon Libraries'], 'date_updated': '2016-05-16T20:18:44+00:00', 'date_modified': '2016-08-19T04:14:17.742449+00:00', 'tags': ['Other', 'CDL.UOREGON', 'CDL'], 'title': 'Peripherica', 'description': '', 'sources': ['DataCite MDS'], 'lists': {'publishers': [{'id': 59363, 'type': 'publisher', 'name': 'Knight Library Press - digital editions'}], 'institutions': [{'id': 59361, 'type': 'institution', 'name': 'University of Oregon Libraries'}], 'links': [{'type': 'doi', 'url': 'http://dx.doi.org/10.7264/N3TD9VNT'}], 'contributors': []}, 'language': None, 'id': 1743547}\n",
      "\n",
      "lists:{'date': '2016-05-16T20:18:44+00:00', 'type': 'creativework', 'publishers': ['Knight Library Press - digital editions'], 'date_created': '2016-08-19T04:14:17.742376+00:00', 'contributors': [], 'date_published': None, 'is_deleted': False, 'subjects': [], 'institutions': ['University of Oregon Libraries'], 'date_updated': '2016-05-16T20:18:44+00:00', 'date_modified': '2016-08-19T04:14:17.742449+00:00', 'tags': ['Other', 'CDL.UOREGON', 'CDL'], 'title': 'Peripherica', 'description': '', 'sources': ['DataCite MDS'], 'lists': {'publishers': [{'id': 59363, 'type': 'publisher', 'name': 'Knight Library Press - digital editions'}], 'institutions': [{'id': 59361, 'type': 'institution', 'name': 'University of Oregon Libraries'}], 'links': [{'type': 'doi', 'url': 'http://dx.doi.org/10.7264/N3TD9VNT'}], 'contributors': []}, 'language': None, 'id': 1743547}\n",
      "\n",
      "language:{'date': '2016-05-16T20:18:44+00:00', 'type': 'creativework', 'publishers': ['Knight Library Press - digital editions'], 'date_created': '2016-08-19T04:14:17.742376+00:00', 'contributors': [], 'date_published': None, 'is_deleted': False, 'subjects': [], 'institutions': ['University of Oregon Libraries'], 'date_updated': '2016-05-16T20:18:44+00:00', 'date_modified': '2016-08-19T04:14:17.742449+00:00', 'tags': ['Other', 'CDL.UOREGON', 'CDL'], 'title': 'Peripherica', 'description': '', 'sources': ['DataCite MDS'], 'lists': {'publishers': [{'id': 59363, 'type': 'publisher', 'name': 'Knight Library Press - digital editions'}], 'institutions': [{'id': 59361, 'type': 'institution', 'name': 'University of Oregon Libraries'}], 'links': [{'type': 'doi', 'url': 'http://dx.doi.org/10.7264/N3TD9VNT'}], 'contributors': []}, 'language': None, 'id': 1743547}\n",
      "\n",
      "id:{'date': '2016-05-16T20:18:44+00:00', 'type': 'creativework', 'publishers': ['Knight Library Press - digital editions'], 'date_created': '2016-08-19T04:14:17.742376+00:00', 'contributors': [], 'date_published': None, 'is_deleted': False, 'subjects': [], 'institutions': ['University of Oregon Libraries'], 'date_updated': '2016-05-16T20:18:44+00:00', 'date_modified': '2016-08-19T04:14:17.742449+00:00', 'tags': ['Other', 'CDL.UOREGON', 'CDL'], 'title': 'Peripherica', 'description': '', 'sources': ['DataCite MDS'], 'lists': {'publishers': [{'id': 59363, 'type': 'publisher', 'name': 'Knight Library Press - digital editions'}], 'institutions': [{'id': 59361, 'type': 'institution', 'name': 'University of Oregon Libraries'}], 'links': [{'type': 'doi', 'url': 'http://dx.doi.org/10.7264/N3TD9VNT'}], 'contributors': []}, 'language': None, 'id': 1743547}\n",
      "\n"
     ]
    }
   ],
   "source": [
    "for key in row1['_source']:\n",
    "    print('{}:{}\\n'.format(key,row1['_source']))"
   ]
  },
  {
   "cell_type": "code",
   "execution_count": 40,
   "metadata": {
    "collapsed": false
   },
   "outputs": [
    {
     "name": "stdout",
     "output_type": "stream",
     "text": [
      "date:2016-05-16T20:18:44+00:00\n",
      "\n",
      "type:creativework\n",
      "\n",
      "publishers:['Knight Library Press - digital editions']\n",
      "\n",
      "date_created:2016-08-19T04:14:17.742376+00:00\n",
      "\n",
      "contributors:[]\n",
      "\n",
      "date_published:None\n",
      "\n",
      "is_deleted:False\n",
      "\n",
      "subjects:[]\n",
      "\n",
      "institutions:['University of Oregon Libraries']\n",
      "\n",
      "date_updated:2016-05-16T20:18:44+00:00\n",
      "\n",
      "date_modified:2016-08-19T04:14:17.742449+00:00\n",
      "\n",
      "tags:['Other', 'CDL.UOREGON', 'CDL']\n",
      "\n",
      "title:Peripherica\n",
      "\n",
      "description:\n",
      "\n",
      "sources:['DataCite MDS']\n",
      "\n",
      "lists:{'publishers': [{'id': 59363, 'type': 'publisher', 'name': 'Knight Library Press - digital editions'}], 'institutions': [{'id': 59361, 'type': 'institution', 'name': 'University of Oregon Libraries'}], 'links': [{'type': 'doi', 'url': 'http://dx.doi.org/10.7264/N3TD9VNT'}], 'contributors': []}\n",
      "\n",
      "language:None\n",
      "\n",
      "id:1743547\n",
      "\n"
     ]
    }
   ],
   "source": [
    "for key in row1['_source']:\n",
    "    print('{}:{}\\n'.format(key,row1['_source'][key]))"
   ]
  },
  {
   "cell_type": "code",
   "execution_count": 41,
   "metadata": {
    "collapsed": false
   },
   "outputs": [
    {
     "name": "stdout",
     "output_type": "stream",
     "text": [
      "date:2016-05-16T20:18:44+00:00\n",
      "\n",
      "type:creativework\n",
      "\n",
      "publishers:['Knight Library Press - digital editions']\n",
      "\n",
      "date_created:2016-08-19T04:14:17.742376+00:00\n",
      "\n",
      "contributors:[]\n",
      "\n",
      "date_published:None\n",
      "\n",
      "is_deleted:False\n",
      "\n",
      "subjects:[]\n",
      "\n",
      "institutions:['University of Oregon Libraries']\n",
      "\n",
      "date_updated:2016-05-16T20:18:44+00:00\n",
      "\n",
      "date_modified:2016-08-19T04:14:17.742449+00:00\n",
      "\n",
      "tags:['Other', 'CDL.UOREGON', 'CDL']\n",
      "\n",
      "title:Peripherica\n",
      "\n",
      "description:\n",
      "\n",
      "sources:['DataCite MDS']\n",
      "\n",
      "lists:{'publishers': [{'id': 59363, 'type': 'publisher', 'name': 'Knight Library Press - digital editions'}], 'institutions': [{'id': 59361, 'type': 'institution', 'name': 'University of Oregon Libraries'}], 'links': [{'type': 'doi', 'url': 'http://dx.doi.org/10.7264/N3TD9VNT'}], 'contributors': []}\n",
      "\n",
      "language:None\n",
      "\n",
      "id:1743547\n",
      "\n"
     ]
    }
   ],
   "source": [
    "for key in row1['_source']:\n",
    "    print('{}:{}\\n'.format(key,row1['_source'][key]))"
   ]
  },
  {
   "cell_type": "code",
   "execution_count": null,
   "metadata": {
    "collapsed": true
   },
   "outputs": [],
   "source": [
    "#Put id first"
   ]
  },
  {
   "cell_type": "code",
   "execution_count": 21,
   "metadata": {
    "collapsed": false
   },
   "outputs": [
    {
     "data": {
      "text/plain": [
       "'/Users/rjohns14/git/share_tutorials'"
      ]
     },
     "execution_count": 21,
     "metadata": {},
     "output_type": "execute_result"
    }
   ],
   "source": [
    "import os\n",
    "\n",
    "#os.getcwd()\n",
    "#os.chdir('..')\n",
    "#os.getcwd()\n",
    "#os.chdir('share_tutorials')\n",
    "#os.getcwd()"
   ]
  },
  {
   "cell_type": "markdown",
   "metadata": {},
   "source": [
    "Let's try writing to a simple csv file as an example (example pulled from https://docs.python.org/3/library/csv.html)"
   ]
  },
  {
   "cell_type": "code",
   "execution_count": 22,
   "metadata": {
    "collapsed": true
   },
   "outputs": [],
   "source": [
    "import csv\n",
    "\n",
    "with open('names.csv', 'w') as csvfile:\n",
    "    fieldnames = ['first_name', 'last_name']\n",
    "    writer = csv.DictWriter(csvfile, fieldnames=fieldnames)\n",
    "\n",
    "    writer.writeheader()\n",
    "    writer.writerow({'first_name': 'Baked', 'last_name': 'Beans'})\n",
    "    writer.writerow({'first_name': 'Lovely', 'last_name': 'Spam'})\n",
    "    writer.writerow({'first_name': 'Wonderful', 'last_name': 'Spam'})"
   ]
  },
  {
   "cell_type": "markdown",
   "metadata": {},
   "source": [
    "Let's adapt this now with our data from SHARE..."
   ]
  },
  {
   "cell_type": "code",
   "execution_count": 49,
   "metadata": {
    "collapsed": false
   },
   "outputs": [
    {
     "name": "stderr",
     "output_type": "stream",
     "text": [
      "/Users/rjohns14/anaconda/lib/python3.5/site-packages/requests/packages/urllib3/connectionpool.py:821: InsecureRequestWarning: Unverified HTTPS request is being made. Adding certificate verification is strongly advised. See: https://urllib3.readthedocs.org/en/latest/security.html\n",
      "  InsecureRequestWarning)\n",
      "/Users/rjohns14/anaconda/lib/python3.5/site-packages/requests/packages/urllib3/connectionpool.py:821: InsecureRequestWarning: Unverified HTTPS request is being made. Adding certificate verification is strongly advised. See: https://urllib3.readthedocs.org/en/latest/security.html\n",
      "  InsecureRequestWarning)\n"
     ]
    },
    {
     "ename": "ValueError",
     "evalue": "dict contains fields not in fieldnames: 'publishers'",
     "output_type": "error",
     "traceback": [
      "\u001b[0;31m---------------------------------------------------------------------------\u001b[0m",
      "\u001b[0;31mValueError\u001b[0m                                Traceback (most recent call last)",
      "\u001b[0;32m<ipython-input-49-b6338fbe7482>\u001b[0m in \u001b[0;36m<module>\u001b[0;34m()\u001b[0m\n\u001b[1;32m     19\u001b[0m         \u001b[0;32mfor\u001b[0m \u001b[0mkey\u001b[0m \u001b[0;32min\u001b[0m \u001b[0mrecord\u001b[0m\u001b[0;34m[\u001b[0m\u001b[0;34m'_source'\u001b[0m\u001b[0;34m]\u001b[0m\u001b[0;34m:\u001b[0m\u001b[0;34m\u001b[0m\u001b[0m\n\u001b[1;32m     20\u001b[0m             \u001b[0mrow\u001b[0m\u001b[0;34m.\u001b[0m\u001b[0mupdate\u001b[0m\u001b[0;34m(\u001b[0m\u001b[0;34m{\u001b[0m\u001b[0mkey\u001b[0m\u001b[0;34m:\u001b[0m\u001b[0mrecord\u001b[0m\u001b[0;34m[\u001b[0m\u001b[0;34m'_source'\u001b[0m\u001b[0;34m]\u001b[0m\u001b[0;34m[\u001b[0m\u001b[0mkey\u001b[0m\u001b[0;34m]\u001b[0m\u001b[0;34m}\u001b[0m\u001b[0;34m)\u001b[0m\u001b[0;34m\u001b[0m\u001b[0m\n\u001b[0;32m---> 21\u001b[0;31m         \u001b[0mwriter\u001b[0m\u001b[0;34m.\u001b[0m\u001b[0mwriterow\u001b[0m\u001b[0;34m(\u001b[0m\u001b[0mrow\u001b[0m\u001b[0;34m)\u001b[0m\u001b[0;34m\u001b[0m\u001b[0m\n\u001b[0m\u001b[1;32m     22\u001b[0m         \u001b[0;31m#for key in row['_source']:\u001b[0m\u001b[0;34m\u001b[0m\u001b[0;34m\u001b[0m\u001b[0m\n\u001b[1;32m     23\u001b[0m \u001b[0;34m\u001b[0m\u001b[0m\n",
      "\u001b[0;32m/Users/rjohns14/anaconda/lib/python3.5/csv.py\u001b[0m in \u001b[0;36mwriterow\u001b[0;34m(self, rowdict)\u001b[0m\n\u001b[1;32m    151\u001b[0m \u001b[0;34m\u001b[0m\u001b[0m\n\u001b[1;32m    152\u001b[0m     \u001b[0;32mdef\u001b[0m \u001b[0mwriterow\u001b[0m\u001b[0;34m(\u001b[0m\u001b[0mself\u001b[0m\u001b[0;34m,\u001b[0m \u001b[0mrowdict\u001b[0m\u001b[0;34m)\u001b[0m\u001b[0;34m:\u001b[0m\u001b[0;34m\u001b[0m\u001b[0m\n\u001b[0;32m--> 153\u001b[0;31m         \u001b[0;32mreturn\u001b[0m \u001b[0mself\u001b[0m\u001b[0;34m.\u001b[0m\u001b[0mwriter\u001b[0m\u001b[0;34m.\u001b[0m\u001b[0mwriterow\u001b[0m\u001b[0;34m(\u001b[0m\u001b[0mself\u001b[0m\u001b[0;34m.\u001b[0m\u001b[0m_dict_to_list\u001b[0m\u001b[0;34m(\u001b[0m\u001b[0mrowdict\u001b[0m\u001b[0;34m)\u001b[0m\u001b[0;34m)\u001b[0m\u001b[0;34m\u001b[0m\u001b[0m\n\u001b[0m\u001b[1;32m    154\u001b[0m \u001b[0;34m\u001b[0m\u001b[0m\n\u001b[1;32m    155\u001b[0m     \u001b[0;32mdef\u001b[0m \u001b[0mwriterows\u001b[0m\u001b[0;34m(\u001b[0m\u001b[0mself\u001b[0m\u001b[0;34m,\u001b[0m \u001b[0mrowdicts\u001b[0m\u001b[0;34m)\u001b[0m\u001b[0;34m:\u001b[0m\u001b[0;34m\u001b[0m\u001b[0m\n",
      "\u001b[0;32m/Users/rjohns14/anaconda/lib/python3.5/csv.py\u001b[0m in \u001b[0;36m_dict_to_list\u001b[0;34m(self, rowdict)\u001b[0m\n\u001b[1;32m    147\u001b[0m             \u001b[0;32mif\u001b[0m \u001b[0mwrong_fields\u001b[0m\u001b[0;34m:\u001b[0m\u001b[0;34m\u001b[0m\u001b[0m\n\u001b[1;32m    148\u001b[0m                 raise ValueError(\"dict contains fields not in fieldnames: \"\n\u001b[0;32m--> 149\u001b[0;31m                                  + \", \".join([repr(x) for x in wrong_fields]))\n\u001b[0m\u001b[1;32m    150\u001b[0m         \u001b[0;32mreturn\u001b[0m \u001b[0;34m(\u001b[0m\u001b[0mrowdict\u001b[0m\u001b[0;34m.\u001b[0m\u001b[0mget\u001b[0m\u001b[0;34m(\u001b[0m\u001b[0mkey\u001b[0m\u001b[0;34m,\u001b[0m \u001b[0mself\u001b[0m\u001b[0;34m.\u001b[0m\u001b[0mrestval\u001b[0m\u001b[0;34m)\u001b[0m \u001b[0;32mfor\u001b[0m \u001b[0mkey\u001b[0m \u001b[0;32min\u001b[0m \u001b[0mself\u001b[0m\u001b[0;34m.\u001b[0m\u001b[0mfieldnames\u001b[0m\u001b[0;34m)\u001b[0m\u001b[0;34m\u001b[0m\u001b[0m\n\u001b[1;32m    151\u001b[0m \u001b[0;34m\u001b[0m\u001b[0m\n",
      "\u001b[0;31mValueError\u001b[0m: dict contains fields not in fieldnames: 'publishers'"
     ]
    }
   ],
   "source": [
    "import csv\n",
    "\n",
    "affiliation_results = query_share(search_url.url, affiliation_query)\n",
    "records = affiliation_results['hits']['hits']\n",
    "\n",
    "#set our filenames\n",
    "SHARE_MATCHING_INSTITUTION_RECORDS = 'share_matching.csv'\n",
    "\n",
    "with open(SHARE_MATCHING_INSTITUTION_RECORDS, 'w') as csvfile:\n",
    "    #instead of pop us a for loop\n",
    "    i = 0\n",
    "    for record in records:\n",
    "        if i == 0:\n",
    "            fieldnames = record['_source'].keys()\n",
    "            writer = csv.DictWriter(csvfile, fieldnames=fieldnames)\n",
    "            writer.writeheader()\n",
    "            i = i + 1\n",
    "        row = {}\n",
    "        for key in record['_source']:\n",
    "            row.update({key:record['_source'][key]})\n",
    "        writer.writerow(row)    \n",
    "        #for key in row['_source']:\n",
    "            \n",
    "        #    print('{}:{}\\n'.format(key,row1['_source'][key]))"
   ]
  },
  {
   "cell_type": "markdown",
   "metadata": {},
   "source": [
    "Special Tip: extrasaction value of 'ignore' will not throw an error if there are keys in this method such as a nested dictionary"
   ]
  },
  {
   "cell_type": "code",
   "execution_count": 56,
   "metadata": {
    "collapsed": false
   },
   "outputs": [
    {
     "name": "stderr",
     "output_type": "stream",
     "text": [
      "/Users/rjohns14/anaconda/lib/python3.5/site-packages/requests/packages/urllib3/connectionpool.py:821: InsecureRequestWarning: Unverified HTTPS request is being made. Adding certificate verification is strongly advised. See: https://urllib3.readthedocs.org/en/latest/security.html\n",
      "  InsecureRequestWarning)\n",
      "/Users/rjohns14/anaconda/lib/python3.5/site-packages/requests/packages/urllib3/connectionpool.py:821: InsecureRequestWarning: Unverified HTTPS request is being made. Adding certificate verification is strongly advised. See: https://urllib3.readthedocs.org/en/latest/security.html\n",
      "  InsecureRequestWarning)\n"
     ]
    }
   ],
   "source": [
    "import csv\n",
    "\n",
    "affiliation_results = query_share(search_url.url, affiliation_query)\n",
    "records = affiliation_results['hits']['hits']\n",
    "\n",
    "#set our filenames\n",
    "SHARE_MATCHING_INSTITUTION_RECORDS = 'share_matching.csv'\n",
    "\n",
    "with open(SHARE_MATCHING_INSTITUTION_RECORDS, 'w') as csvfile:\n",
    "    #instead of pop us a for loop\n",
    "    i = 0\n",
    "    for row in records:\n",
    "        if i == 0:\n",
    "            fieldnames = row['_source'].keys()\n",
    "            writer = csv.DictWriter(csvfile, fieldnames=fieldnames, extrasaction='ignore')\n",
    "            writer.writeheader()\n",
    "            i = i + 1\n",
    "        writer.writerow(row['_source'])    "
   ]
  },
  {
   "cell_type": "markdown",
   "metadata": {},
   "source": [
    "Finally to pull everything together (remember Drew Barrymore that this would otherwise not work if you started here)"
   ]
  },
  {
   "cell_type": "code",
   "execution_count": null,
   "metadata": {
    "collapsed": true
   },
   "outputs": [],
   "source": []
  }
 ],
 "metadata": {
  "anaconda-cloud": {},
  "kernelspec": {
   "display_name": "Python [Root]",
   "language": "python",
   "name": "Python [Root]"
  },
  "language_info": {
   "codemirror_mode": {
    "name": "ipython",
    "version": 3
   },
   "file_extension": ".py",
   "mimetype": "text/x-python",
   "name": "python",
   "nbconvert_exporter": "python",
   "pygments_lexer": "ipython3",
   "version": "3.5.2"
  }
 },
 "nbformat": 4,
 "nbformat_minor": 0
}
