{
 "cells": [
  {
   "cell_type": "markdown",
   "metadata": {},
   "source": [
    "**Objectives of this Webinar:**\n",
    "\n",
    "You will be able to query SHARE for records that are known to be tied to your institution, and might be tied to your institution.  You will then be able to export them to a csv file for review.\n",
    "\n",
    "Let's start in the Search Interface: http://share.osf.io"
   ]
  },
  {
   "cell_type": "markdown",
   "metadata": {},
   "source": [
    "**Replicating this process in code**\n",
    "\n",
    "First we will set some values for Jupyter to use.\n",
    "\n",
    "Why is this useful?\n",
    "\n",
    "Remember Drew Barrymore in '50 First Dates'?\n",
    "\n",
    "http://www.imdb.com/title/tt0343660/\n",
    "\n",
    "**Special Tip:**  Put your cursor in the Cell (i.e., box) below and hit Shift+Enter on your keyboard to run it "
   ]
  },
  {
   "cell_type": "code",
   "execution_count": 2,
   "metadata": {
    "collapsed": true
   },
   "outputs": [],
   "source": [
    "SHARE_API = 'https://staging-share.osf.io/api/search/abstractcreativework/_search'"
   ]
  },
  {
   "cell_type": "markdown",
   "metadata": {},
   "source": [
    "This is now in memory!  However, beware.  Just like Drew Barrymore if you close this notebook and reopen it, jupyter has completely forgotten about it, and you will need to rerun it for Jupyter to know about it.\n",
    "\n",
    "**Special Tip:** Why all CAPS for 'SHARE_API'? It is convention (i.e., common practice) to use all capital letters when defining something that does not change?"
   ]
  },
  {
   "cell_type": "markdown",
   "metadata": {},
   "source": [
    "Next, let's move onto to an example simple query to SHARE."
   ]
  },
  {
   "cell_type": "code",
   "execution_count": 3,
   "metadata": {
    "collapsed": false
   },
   "outputs": [
    {
     "name": "stdout",
     "output_type": "stream",
     "text": [
      "The request URL is https://staging-share.osf.io/api/search/abstractcreativework/_search?size=3\n",
      "----------\n",
      "The APPLAUSE Data Release 2 -- from ['DataCite MDS']\n",
      "The APPLAUSE Data Release 2 -- from ['DataCite MDS']\n",
      "The Pselaphinae (Coleoptera: Staphylinidae) of Madagascar. I. Andasibe sahondrae, a new, peculiar genus and species of Clavigeritae (Coleoptera: Staphylinidae: Pselaphinae) -- from ['DataCite MDS']\n",
      "The Role of Interest Groups: Best Practices, Case Studies, and Lessons Learned -- from ['DataCite MDS']\n",
      "Major-element chemical analyses of Hole 29-282 -- from ['DataCite MDS']\n",
      "Peer Review #1 of \"No effect of low-level chronic neonicotinoid exposure on bumblebee learning and fecundity (v0.2)\" -- from ['DataCite MDS']\n",
      "A taxonomic review of the grassland leafhopper genus Aconurella Ribaut (Hemiptera: Cicadellidae: Deltocephalinae: Chiasmini) from China with the description of two new species -- from ['DataCite MDS']\n",
      "Particulate matter concentration from filtered niskin bottles at station NBP97-01-14-1 -- from ['DataCite MDS']\n",
      "Supplementary table 1 -- from ['DataCite MDS']\n",
      "Levels of nitric oxide (NO) in lymph node cell (LNC) culture supernatant and serum of Celastrus-treated Lewis (LEW) rats -- from ['DataCite MDS']\n"
     ]
    }
   ],
   "source": [
    "import furl\n",
    "import requests\n",
    "\n",
    "search_url = furl.furl(SHARE_API)\n",
    "search_url.args['size'] = 3\n",
    "recent_results = requests.get(search_url.url).json()\n",
    "\n",
    "recent_results = recent_results['hits']['hits']\n",
    "\n",
    "print('The request URL is {}'.format(search_url.url))\n",
    "print('----------')\n",
    "for result in recent_results:\n",
    "    print(\n",
    "        '{} -- from {}'.format(\n",
    "            result['_source']['title'],\n",
    "            result['_source']['sources']\n",
    "        )\n",
    "    )"
   ]
  },
  {
   "cell_type": "markdown",
   "metadata": {},
   "source": [
    "Let's add a search string\n",
    "\n",
    "**Special Tip:** Sometimes you can learn a lot from a url and let's look at it after we search using the search box on SHARE (http://share.osf.io)\n",
    "    \n",
    "https://share.osf.io/discover?q=university%20of%20oregon"
   ]
  },
  {
   "cell_type": "code",
   "execution_count": 4,
   "metadata": {
    "collapsed": false
   },
   "outputs": [
    {
     "name": "stdout",
     "output_type": "stream",
     "text": [
      "The request URL is https://staging-share.osf.io/api/search/abstractcreativework/_search?size=3&q=university+of+oregon\n",
      "---------\n",
      "The APPLAUSE Data Release 2 -- from ['DataCite MDS']\n",
      "The APPLAUSE Data Release 2 -- from ['DataCite MDS']\n",
      "The Pselaphinae (Coleoptera: Staphylinidae) of Madagascar. I. Andasibe sahondrae, a new, peculiar genus and species of Clavigeritae (Coleoptera: Staphylinidae: Pselaphinae) -- from ['DataCite MDS']\n",
      "The Role of Interest Groups: Best Practices, Case Studies, and Lessons Learned -- from ['DataCite MDS']\n",
      "Major-element chemical analyses of Hole 29-282 -- from ['DataCite MDS']\n",
      "Peer Review #1 of \"No effect of low-level chronic neonicotinoid exposure on bumblebee learning and fecundity (v0.2)\" -- from ['DataCite MDS']\n",
      "A taxonomic review of the grassland leafhopper genus Aconurella Ribaut (Hemiptera: Cicadellidae: Deltocephalinae: Chiasmini) from China with the description of two new species -- from ['DataCite MDS']\n",
      "Particulate matter concentration from filtered niskin bottles at station NBP97-01-14-1 -- from ['DataCite MDS']\n",
      "Supplementary table 1 -- from ['DataCite MDS']\n",
      "Levels of nitric oxide (NO) in lymph node cell (LNC) culture supernatant and serum of Celastrus-treated Lewis (LEW) rats -- from ['DataCite MDS']\n"
     ]
    }
   ],
   "source": [
    "search_url.args['q'] = 'university of oregon'\n",
    "recent_results = requests.get(search_url.url).json()\n",
    "\n",
    "recent_results = recent_results['hits']['hits']\n",
    "\n",
    "print('The request URL is {}'.format(search_url.url))\n",
    "print('---------')\n",
    "for result in recent_results:\n",
    "    print(\n",
    "        '{} -- from {}'.format(\n",
    "            result['_source']['title'],\n",
    "            result['_source']['sources']\n",
    "        )\n",
    "    )"
   ]
  },
  {
   "cell_type": "markdown",
   "metadata": {},
   "source": [
    "**Special Tip:**  To print text and variables together use the format function as below with '{}' anywhere you want to insert a value and then include them in order to the format method."
   ]
  },
  {
   "cell_type": "markdown",
   "metadata": {},
   "source": [
    "**Looking for exact matches use our facet filter**\n",
    "\n",
    "Let's go back to SHARE, apply a facet and see what it is doing\n",
    "\n",
    "http://share.osf.io\n",
    "    "
   ]
  },
  {
   "cell_type": "code",
   "execution_count": 5,
   "metadata": {
    "collapsed": true
   },
   "outputs": [],
   "source": [
    "affiliation_query = {\n",
    "    \"query\": {\n",
    "        \"bool\": {\n",
    "            \"must\": {\n",
    "                \"query_string\": {\n",
    "                    \"query\": \"*\"\n",
    "                }\n",
    "            },\n",
    "            \"filter\": [\n",
    "                {\n",
    "                    \"term\": {\n",
    "                        \"institutions.raw\": \"University of Oregon Libraries\"\n",
    "                    }\n",
    "                }\n",
    "            ]\n",
    "        }\n",
    "    }\n",
    "}"
   ]
  },
  {
   "cell_type": "markdown",
   "metadata": {},
   "source": [
    "Let's input a method into memory so we can use it later.  Do not worry too much about the specifics yet.\n",
    "\n",
    "**Special Tip:** Just like variables you can define methods that do a job and you can then use them later without rewriting what it does"
   ]
  },
  {
   "cell_type": "code",
   "execution_count": 6,
   "metadata": {
    "collapsed": true
   },
   "outputs": [],
   "source": [
    "import json\n",
    "import requests\n",
    "\n",
    "def query_share(url, query):\n",
    "    # A helper function that will use the requests library,\n",
    "    # pass along the correct headers,\n",
    "    # and make the query we want\n",
    "    headers = {'Content-Type': 'application/json'}\n",
    "    data = json.dumps(query)\n",
    "    return requests.post(url, headers=headers, data=data, verify=False).json()"
   ]
  },
  {
   "cell_type": "markdown",
   "metadata": {},
   "source": [
    "**Special Tip:** Use '#' as first character in a line if you want to put in a comment"
   ]
  },
  {
   "cell_type": "code",
   "execution_count": 7,
   "metadata": {
    "collapsed": false
   },
   "outputs": [
    {
     "name": "stderr",
     "output_type": "stream",
     "text": [
      "/Users/rjohns14/anaconda/lib/python3.5/site-packages/requests/packages/urllib3/connectionpool.py:821: InsecureRequestWarning: Unverified HTTPS request is being made. Adding certificate verification is strongly advised. See: https://urllib3.readthedocs.org/en/latest/security.html\n",
      "  InsecureRequestWarning)\n",
      "/Users/rjohns14/anaconda/lib/python3.5/site-packages/requests/packages/urllib3/connectionpool.py:821: InsecureRequestWarning: Unverified HTTPS request is being made. Adding certificate verification is strongly advised. See: https://urllib3.readthedocs.org/en/latest/security.html\n",
      "  InsecureRequestWarning)\n"
     ]
    },
    {
     "name": "stdout",
     "output_type": "stream",
     "text": [
      "total results found: 0\n"
     ]
    }
   ],
   "source": [
    "affiliation_results = query_share(search_url.url, affiliation_query)\n",
    "\n",
    "total_results = affiliation_results['hits']['total']\n",
    "print('total results found: {}'.format(total_results))"
   ]
  },
  {
   "cell_type": "markdown",
   "metadata": {},
   "source": [
    "Where are my results?  Things can differently from staging to production environments.\n",
    "\n",
    "Let's create a new variable and change our search url"
   ]
  },
  {
   "cell_type": "code",
   "execution_count": 8,
   "metadata": {
    "collapsed": true
   },
   "outputs": [],
   "source": [
    "PROD_SHARE_API= 'https://share.osf.io/api/search/abstractcreativework/_search'\n",
    "\n",
    "search_url = furl.furl(PROD_SHARE_API)\n",
    "search_url.args['size'] = 3"
   ]
  },
  {
   "cell_type": "code",
   "execution_count": 9,
   "metadata": {
    "collapsed": false
   },
   "outputs": [
    {
     "name": "stderr",
     "output_type": "stream",
     "text": [
      "/Users/rjohns14/anaconda/lib/python3.5/site-packages/requests/packages/urllib3/connectionpool.py:821: InsecureRequestWarning: Unverified HTTPS request is being made. Adding certificate verification is strongly advised. See: https://urllib3.readthedocs.org/en/latest/security.html\n",
      "  InsecureRequestWarning)\n",
      "/Users/rjohns14/anaconda/lib/python3.5/site-packages/requests/packages/urllib3/connectionpool.py:821: InsecureRequestWarning: Unverified HTTPS request is being made. Adding certificate verification is strongly advised. See: https://urllib3.readthedocs.org/en/latest/security.html\n",
      "  InsecureRequestWarning)\n"
     ]
    },
    {
     "name": "stdout",
     "output_type": "stream",
     "text": [
      "total results found: 2\n"
     ]
    }
   ],
   "source": [
    "affiliation_results = query_share(search_url.url, affiliation_query)\n",
    "\n",
    "total_results = affiliation_results['hits']['total']\n",
    "print('total results found: {}'.format(total_results))"
   ]
  },
  {
   "cell_type": "markdown",
   "metadata": {},
   "source": [
    "Next let's dive into the results to see what is being returned and how to then push it into a csv file\n",
    "\n",
    "**Special Tip:** The built-in 'print' is a very easy way to explore what is happening"
   ]
  },
  {
   "cell_type": "code",
   "execution_count": 10,
   "metadata": {
    "collapsed": false
   },
   "outputs": [
    {
     "name": "stderr",
     "output_type": "stream",
     "text": [
      "/Users/rjohns14/anaconda/lib/python3.5/site-packages/requests/packages/urllib3/connectionpool.py:821: InsecureRequestWarning: Unverified HTTPS request is being made. Adding certificate verification is strongly advised. See: https://urllib3.readthedocs.org/en/latest/security.html\n",
      "  InsecureRequestWarning)\n",
      "/Users/rjohns14/anaconda/lib/python3.5/site-packages/requests/packages/urllib3/connectionpool.py:821: InsecureRequestWarning: Unverified HTTPS request is being made. Adding certificate verification is strongly advised. See: https://urllib3.readthedocs.org/en/latest/security.html\n",
      "  InsecureRequestWarning)\n"
     ]
    },
    {
     "name": "stdout",
     "output_type": "stream",
     "text": [
      "------------\n",
      "{'took': 1, '_shards': {'successful': 5, 'failed': 0, 'total': 5}, 'hits': {'hits': [{'_source': {'date': '2015-06-17T19:41:12+00:00', 'id': 2577749, 'description': 'University of Oregon Libraries self-study from 1998.', 'date_created': '2016-08-19T08:58:01.621579+00:00', 'date_updated': '2015-06-17T19:41:12+00:00', 'language': None, 'subjects': [], 'date_published': None, 'sources': ['Scholars Bank University of Oregon'], 'type': 'creativework', 'title': 'University of Oregon Library System Program Review', 'is_deleted': False, 'date_modified': '2016-08-19T08:58:01.621541+00:00', 'contributors': [], 'institutions': ['University of Oregon Libraries'], 'tags': ['libraries', 'program review', 'self-study', 'University Record', 'col_1794_3856', 'com_1794_151', 'com_1794_6373', 'com_1794_3855'], 'lists': {'contributors': [], 'institutions': [{'name': 'University of Oregon Libraries', 'type': 'institution', 'id': 59361}], 'links': [{'type': 'misc', 'url': 'http://hdl.handle.net/1794/12239'}]}}, '_index': 'share', '_id': '2577749', '_type': 'abstractcreativework', '_score': 1.0}, {'_source': {'date': '2016-05-16T20:18:44+00:00', 'id': 1743547, 'description': '', 'sources': ['DataCite MDS'], 'lists': {'contributors': [], 'institutions': [{'name': 'University of Oregon Libraries', 'type': 'institution', 'id': 59361}], 'links': [{'type': 'doi', 'url': 'http://dx.doi.org/10.7264/N3TD9VNT'}], 'publishers': [{'name': 'Knight Library Press - digital editions', 'type': 'publisher', 'id': 59363}]}, 'language': None, 'date_updated': '2016-05-16T20:18:44+00:00', 'subjects': [], 'date_published': None, 'type': 'creativework', 'title': 'Peripherica', 'is_deleted': False, 'date_modified': '2016-08-19T04:14:17.742449+00:00', 'publishers': ['Knight Library Press - digital editions'], 'date_created': '2016-08-19T04:14:17.742376+00:00', 'institutions': ['University of Oregon Libraries'], 'tags': ['Other', 'CDL.UOREGON', 'CDL'], 'contributors': []}, '_index': 'share', '_id': '1743547', '_type': 'abstractcreativework', '_score': 1.0}], 'total': 2, 'max_score': 1.0}, 'timed_out': False}\n",
      "------------\n"
     ]
    }
   ],
   "source": [
    "affiliation_results = query_share(search_url.url, affiliation_query)\n",
    "print('------------')\n",
    "print(affiliation_results)\n",
    "print('------------')"
   ]
  },
  {
   "cell_type": "markdown",
   "metadata": {},
   "source": [
    "This is a lot of stuff and we need to dive in fartheR\n",
    "\n",
    "**Special Tip**: SHARE returns this in what is called a Dictionary in Python (i.e. map, hash) and you supply the name of 'key' to then get the 'value'\n",
    "\n",
    "**Special Tip**: You can also get the list of keys for a dictionary by calling the dict method.\n",
    "\n",
    "So, we will print out our list of keys"
   ]
  },
  {
   "cell_type": "code",
   "execution_count": 11,
   "metadata": {
    "collapsed": false
   },
   "outputs": [
    {
     "name": "stdout",
     "output_type": "stream",
     "text": [
      "dict_keys(['took', '_shards', 'hits', 'timed_out'])\n"
     ]
    }
   ],
   "source": [
    "print(affiliation_results.keys())"
   ]
  },
  {
   "cell_type": "markdown",
   "metadata": {},
   "source": [
    "It looks like what we need is 'hits'\n",
    "\n",
    "**Special Tip:** Make sure you put '' (single quotes) around the key name"
   ]
  },
  {
   "cell_type": "code",
   "execution_count": 12,
   "metadata": {
    "collapsed": false
   },
   "outputs": [
    {
     "name": "stderr",
     "output_type": "stream",
     "text": [
      "/Users/rjohns14/anaconda/lib/python3.5/site-packages/requests/packages/urllib3/connectionpool.py:821: InsecureRequestWarning: Unverified HTTPS request is being made. Adding certificate verification is strongly advised. See: https://urllib3.readthedocs.org/en/latest/security.html\n",
      "  InsecureRequestWarning)\n",
      "/Users/rjohns14/anaconda/lib/python3.5/site-packages/requests/packages/urllib3/connectionpool.py:821: InsecureRequestWarning: Unverified HTTPS request is being made. Adding certificate verification is strongly advised. See: https://urllib3.readthedocs.org/en/latest/security.html\n",
      "  InsecureRequestWarning)\n"
     ]
    },
    {
     "name": "stdout",
     "output_type": "stream",
     "text": [
      "{'hits': [{'_source': {'date': '2015-06-17T19:41:12+00:00', 'id': 2577749, 'description': 'University of Oregon Libraries self-study from 1998.', 'date_created': '2016-08-19T08:58:01.621579+00:00', 'date_updated': '2015-06-17T19:41:12+00:00', 'language': None, 'subjects': [], 'date_published': None, 'sources': ['Scholars Bank University of Oregon'], 'type': 'creativework', 'title': 'University of Oregon Library System Program Review', 'is_deleted': False, 'date_modified': '2016-08-19T08:58:01.621541+00:00', 'contributors': [], 'institutions': ['University of Oregon Libraries'], 'tags': ['libraries', 'program review', 'self-study', 'University Record', 'col_1794_3856', 'com_1794_151', 'com_1794_6373', 'com_1794_3855'], 'lists': {'contributors': [], 'institutions': [{'name': 'University of Oregon Libraries', 'type': 'institution', 'id': 59361}], 'links': [{'type': 'misc', 'url': 'http://hdl.handle.net/1794/12239'}]}}, '_index': 'share', '_id': '2577749', '_type': 'abstractcreativework', '_score': 1.0}, {'_source': {'date': '2016-05-16T20:18:44+00:00', 'id': 1743547, 'description': '', 'sources': ['DataCite MDS'], 'lists': {'contributors': [], 'institutions': [{'name': 'University of Oregon Libraries', 'type': 'institution', 'id': 59361}], 'links': [{'type': 'doi', 'url': 'http://dx.doi.org/10.7264/N3TD9VNT'}], 'publishers': [{'name': 'Knight Library Press - digital editions', 'type': 'publisher', 'id': 59363}]}, 'language': None, 'date_updated': '2016-05-16T20:18:44+00:00', 'subjects': [], 'date_published': None, 'type': 'creativework', 'title': 'Peripherica', 'is_deleted': False, 'date_modified': '2016-08-19T04:14:17.742449+00:00', 'publishers': ['Knight Library Press - digital editions'], 'date_created': '2016-08-19T04:14:17.742376+00:00', 'institutions': ['University of Oregon Libraries'], 'tags': ['Other', 'CDL.UOREGON', 'CDL'], 'contributors': []}, '_index': 'share', '_id': '1743547', '_type': 'abstractcreativework', '_score': 1.0}], 'total': 2, 'max_score': 1.0}\n"
     ]
    }
   ],
   "source": [
    "affiliation_results = query_share(search_url.url, affiliation_query)\n",
    "print(affiliation_results['hits'])"
   ]
  },
  {
   "cell_type": "markdown",
   "metadata": {},
   "source": [
    "This is better but we are still not quite there.  Let's call keys again one level down"
   ]
  },
  {
   "cell_type": "code",
   "execution_count": 13,
   "metadata": {
    "collapsed": false
   },
   "outputs": [
    {
     "name": "stdout",
     "output_type": "stream",
     "text": [
      "dict_keys(['hits', 'total', 'max_score'])\n"
     ]
    }
   ],
   "source": [
    "print(affiliation_results['hits'].keys())"
   ]
  },
  {
   "cell_type": "markdown",
   "metadata": {},
   "source": [
    "OK, it looks like we need to add another hits\n",
    "\n",
    "**Special Tip:** You can access multiple levels of nested dictionaries by adding additional '[]' to the variable"
   ]
  },
  {
   "cell_type": "code",
   "execution_count": 14,
   "metadata": {
    "collapsed": false
   },
   "outputs": [
    {
     "name": "stdout",
     "output_type": "stream",
     "text": [
      "[{'_source': {'date': '2015-06-17T19:41:12+00:00', 'id': 2577749, 'description': 'University of Oregon Libraries self-study from 1998.', 'date_created': '2016-08-19T08:58:01.621579+00:00', 'date_updated': '2015-06-17T19:41:12+00:00', 'language': None, 'subjects': [], 'date_published': None, 'sources': ['Scholars Bank University of Oregon'], 'type': 'creativework', 'title': 'University of Oregon Library System Program Review', 'is_deleted': False, 'date_modified': '2016-08-19T08:58:01.621541+00:00', 'contributors': [], 'institutions': ['University of Oregon Libraries'], 'tags': ['libraries', 'program review', 'self-study', 'University Record', 'col_1794_3856', 'com_1794_151', 'com_1794_6373', 'com_1794_3855'], 'lists': {'contributors': [], 'institutions': [{'name': 'University of Oregon Libraries', 'type': 'institution', 'id': 59361}], 'links': [{'type': 'misc', 'url': 'http://hdl.handle.net/1794/12239'}]}}, '_index': 'share', '_id': '2577749', '_type': 'abstractcreativework', '_score': 1.0}, {'_source': {'date': '2016-05-16T20:18:44+00:00', 'id': 1743547, 'description': '', 'sources': ['DataCite MDS'], 'lists': {'contributors': [], 'institutions': [{'name': 'University of Oregon Libraries', 'type': 'institution', 'id': 59361}], 'links': [{'type': 'doi', 'url': 'http://dx.doi.org/10.7264/N3TD9VNT'}], 'publishers': [{'name': 'Knight Library Press - digital editions', 'type': 'publisher', 'id': 59363}]}, 'language': None, 'date_updated': '2016-05-16T20:18:44+00:00', 'subjects': [], 'date_published': None, 'type': 'creativework', 'title': 'Peripherica', 'is_deleted': False, 'date_modified': '2016-08-19T04:14:17.742449+00:00', 'publishers': ['Knight Library Press - digital editions'], 'date_created': '2016-08-19T04:14:17.742376+00:00', 'institutions': ['University of Oregon Libraries'], 'tags': ['Other', 'CDL.UOREGON', 'CDL'], 'contributors': []}, '_index': 'share', '_id': '1743547', '_type': 'abstractcreativework', '_score': 1.0}]\n"
     ]
    }
   ],
   "source": [
    "print(affiliation_results['hits']['hits'])"
   ]
  },
  {
   "cell_type": "markdown",
   "metadata": {},
   "source": [
    "Let's check our next set of nested keys..."
   ]
  },
  {
   "cell_type": "code",
   "execution_count": 15,
   "metadata": {
    "collapsed": false
   },
   "outputs": [
    {
     "ename": "AttributeError",
     "evalue": "'list' object has no attribute 'keys'",
     "output_type": "error",
     "traceback": [
      "\u001b[0;31m---------------------------------------------------------------------------\u001b[0m",
      "\u001b[0;31mAttributeError\u001b[0m                            Traceback (most recent call last)",
      "\u001b[0;32m<ipython-input-15-992f0a8b2c30>\u001b[0m in \u001b[0;36m<module>\u001b[0;34m()\u001b[0m\n\u001b[0;32m----> 1\u001b[0;31m \u001b[0mprint\u001b[0m\u001b[0;34m(\u001b[0m\u001b[0maffiliation_results\u001b[0m\u001b[0;34m[\u001b[0m\u001b[0;34m'hits'\u001b[0m\u001b[0;34m]\u001b[0m\u001b[0;34m[\u001b[0m\u001b[0;34m'hits'\u001b[0m\u001b[0;34m]\u001b[0m\u001b[0;34m.\u001b[0m\u001b[0mkeys\u001b[0m\u001b[0;34m(\u001b[0m\u001b[0;34m)\u001b[0m\u001b[0;34m)\u001b[0m\u001b[0;34m\u001b[0m\u001b[0m\n\u001b[0m",
      "\u001b[0;31mAttributeError\u001b[0m: 'list' object has no attribute 'keys'"
     ]
    }
   ],
   "source": [
    "print(affiliation_results['hits']['hits'].keys())"
   ]
  },
  {
   "cell_type": "markdown",
   "metadata": {},
   "source": [
    "Did you get an error?\n",
    "\n",
    "What just happened here?  We have now encountered 'list' and that does not have a notion of keys.  List is essentially just a pile of records that has an order (first, second,...,last) but no keys assigned.  So, how do we interact with that?\n",
    "\n",
    "Let's take a look at the documentation by doing a google search for python list..."
   ]
  },
  {
   "cell_type": "markdown",
   "metadata": {},
   "source": [
    "**Interacting with lists**\n",
    "\n",
    "It looks like maybe we have an item embedded in a list, and this list is actually contains an item per record returned by our search.\n",
    "\n",
    "What we really want though for outputting to csv is the field names to use as column headers\n",
    "\n",
    "So, let's see if we can get to that based on the 'pop' method we found in the documentation here: https://docs.python.org/3/tutorial/datastructures.html"
   ]
  },
  {
   "cell_type": "code",
   "execution_count": 16,
   "metadata": {
    "collapsed": false
   },
   "outputs": [
    {
     "name": "stdout",
     "output_type": "stream",
     "text": [
      "{'_source': {'date': '2016-05-16T20:18:44+00:00', 'id': 1743547, 'description': '', 'sources': ['DataCite MDS'], 'lists': {'contributors': [], 'institutions': [{'name': 'University of Oregon Libraries', 'type': 'institution', 'id': 59361}], 'links': [{'type': 'doi', 'url': 'http://dx.doi.org/10.7264/N3TD9VNT'}], 'publishers': [{'name': 'Knight Library Press - digital editions', 'type': 'publisher', 'id': 59363}]}, 'language': None, 'date_updated': '2016-05-16T20:18:44+00:00', 'subjects': [], 'date_published': None, 'type': 'creativework', 'title': 'Peripherica', 'is_deleted': False, 'date_modified': '2016-08-19T04:14:17.742449+00:00', 'publishers': ['Knight Library Press - digital editions'], 'date_created': '2016-08-19T04:14:17.742376+00:00', 'institutions': ['University of Oregon Libraries'], 'tags': ['Other', 'CDL.UOREGON', 'CDL'], 'contributors': []}, '_index': 'share', '_id': '1743547', '_type': 'abstractcreativework', '_score': 1.0}\n"
     ]
    }
   ],
   "source": [
    "print(affiliation_results['hits']['hits'].pop())"
   ]
  },
  {
   "cell_type": "markdown",
   "metadata": {},
   "source": [
    "Close again.  It looks like what we need is the key '_source', and then maybe we can get our column headers..."
   ]
  },
  {
   "cell_type": "code",
   "execution_count": 17,
   "metadata": {
    "collapsed": false
   },
   "outputs": [
    {
     "name": "stdout",
     "output_type": "stream",
     "text": [
      "dict_keys(['date', 'id', 'description', 'date_created', 'date_updated', 'language', 'subjects', 'date_published', 'sources', 'type', 'title', 'is_deleted', 'date_modified', 'contributors', 'institutions', 'tags', 'lists'])\n"
     ]
    }
   ],
   "source": [
    "record = affiliation_results['hits']['hits'].pop()\n",
    "print(record['_source'].keys())"
   ]
  },
  {
   "cell_type": "markdown",
   "metadata": {},
   "source": [
    "We are REALLY close now, but not quite there.  Let's keeping digging and add one additional thing, a for loop\n",
    "\n",
    "**Special Tip:** You can move through a list of elements within a dictionary or list with a for loop.  "
   ]
  },
  {
   "cell_type": "code",
   "execution_count": 18,
   "metadata": {
    "collapsed": false
   },
   "outputs": [
    {
     "ename": "IndexError",
     "evalue": "pop from empty list",
     "output_type": "error",
     "traceback": [
      "\u001b[0;31m---------------------------------------------------------------------------\u001b[0m",
      "\u001b[0;31mIndexError\u001b[0m                                Traceback (most recent call last)",
      "\u001b[0;32m<ipython-input-18-348386b5f0ac>\u001b[0m in \u001b[0;36m<module>\u001b[0;34m()\u001b[0m\n\u001b[0;32m----> 1\u001b[0;31m \u001b[0mrecord\u001b[0m \u001b[0;34m=\u001b[0m \u001b[0maffiliation_results\u001b[0m\u001b[0;34m[\u001b[0m\u001b[0;34m'hits'\u001b[0m\u001b[0;34m]\u001b[0m\u001b[0;34m[\u001b[0m\u001b[0;34m'hits'\u001b[0m\u001b[0;34m]\u001b[0m\u001b[0;34m.\u001b[0m\u001b[0mpop\u001b[0m\u001b[0;34m(\u001b[0m\u001b[0;34m)\u001b[0m\u001b[0;34m\u001b[0m\u001b[0m\n\u001b[0m\u001b[1;32m      2\u001b[0m \u001b[0;34m\u001b[0m\u001b[0m\n\u001b[1;32m      3\u001b[0m \u001b[0;32mfor\u001b[0m \u001b[0mkey\u001b[0m \u001b[0;32min\u001b[0m \u001b[0mrecord\u001b[0m\u001b[0;34m[\u001b[0m\u001b[0;34m'_source'\u001b[0m\u001b[0;34m]\u001b[0m\u001b[0;34m.\u001b[0m\u001b[0mkeys\u001b[0m\u001b[0;34m(\u001b[0m\u001b[0;34m)\u001b[0m\u001b[0;34m:\u001b[0m\u001b[0;34m\u001b[0m\u001b[0m\n\u001b[1;32m      4\u001b[0m     \u001b[0mprint\u001b[0m\u001b[0;34m(\u001b[0m\u001b[0mkey\u001b[0m\u001b[0;34m)\u001b[0m\u001b[0;34m\u001b[0m\u001b[0m\n",
      "\u001b[0;31mIndexError\u001b[0m: pop from empty list"
     ]
    }
   ],
   "source": [
    "record = affiliation_results['hits']['hits'].pop()\n",
    "\n",
    "for key in record['_source'].keys(): \n",
    "    print(key)"
   ]
  },
  {
   "cell_type": "markdown",
   "metadata": {},
   "source": [
    "What happened here?\n",
    "\n",
    "Why is the list empty?  When you pop something off the list, it is gone once you leave a 'cell'.  So we need to rerun our search and recreate our list."
   ]
  },
  {
   "cell_type": "code",
   "execution_count": 19,
   "metadata": {
    "collapsed": false
   },
   "outputs": [
    {
     "name": "stderr",
     "output_type": "stream",
     "text": [
      "/Users/rjohns14/anaconda/lib/python3.5/site-packages/requests/packages/urllib3/connectionpool.py:821: InsecureRequestWarning: Unverified HTTPS request is being made. Adding certificate verification is strongly advised. See: https://urllib3.readthedocs.org/en/latest/security.html\n",
      "  InsecureRequestWarning)\n",
      "/Users/rjohns14/anaconda/lib/python3.5/site-packages/requests/packages/urllib3/connectionpool.py:821: InsecureRequestWarning: Unverified HTTPS request is being made. Adding certificate verification is strongly advised. See: https://urllib3.readthedocs.org/en/latest/security.html\n",
      "  InsecureRequestWarning)\n"
     ]
    },
    {
     "name": "stdout",
     "output_type": "stream",
     "text": [
      "date\n",
      "id\n",
      "description\n",
      "date_created\n",
      "date_updated\n",
      "type\n",
      "language\n",
      "subjects\n",
      "date_published\n",
      "date_modified\n",
      "title\n",
      "is_deleted\n",
      "contributors\n",
      "publishers\n",
      "sources\n",
      "institutions\n",
      "tags\n",
      "lists\n"
     ]
    }
   ],
   "source": [
    "affiliation_results = query_share(search_url.url, affiliation_query)\n",
    "record = affiliation_results['hits']['hits'].pop()\n",
    "for key in record['_source'].keys(): \n",
    "    print(key)"
   ]
  },
  {
   "cell_type": "markdown",
   "metadata": {},
   "source": [
    "**Success!**    We have it, our list of fields and column headers!\n",
    "\n",
    "**Special Tip:** An advanced move would be to create a method that gives you your list of keys"
   ]
  },
  {
   "cell_type": "markdown",
   "metadata": {},
   "source": [
    "Now let's look at a record and print it to the output..."
   ]
  },
  {
   "cell_type": "code",
   "execution_count": 20,
   "metadata": {
    "collapsed": false
   },
   "outputs": [
    {
     "name": "stdout",
     "output_type": "stream",
     "text": [
      "date:2016-05-16T20:18:44+00:00\n",
      "id:1743547\n",
      "description:\n",
      "date_created:2016-08-19T04:14:17.742376+00:00\n",
      "date_updated:2016-05-16T20:18:44+00:00\n",
      "type:creativework\n",
      "language:None\n",
      "subjects:[]\n",
      "date_published:None\n",
      "date_modified:2016-08-19T04:14:17.742449+00:00\n",
      "title:Peripherica\n",
      "is_deleted:False\n",
      "contributors:[]\n",
      "publishers:['Knight Library Press - digital editions']\n",
      "sources:['DataCite MDS']\n",
      "institutions:['University of Oregon Libraries']\n",
      "tags:['Other', 'CDL.UOREGON', 'CDL']\n",
      "lists:{'contributors': [], 'links': [{'type': 'doi', 'url': 'http://dx.doi.org/10.7264/N3TD9VNT'}], 'institutions': [{'name': 'University of Oregon Libraries', 'type': 'institution', 'id': 59361}], 'publishers': [{'name': 'Knight Library Press - digital editions', 'type': 'publisher', 'id': 59363}]}\n"
     ]
    }
   ],
   "source": [
    "#put keys and values together\n",
    "for key in record['_source'].keys():\n",
    "    print('{}:{}'.format(key,record['_source'][key]))"
   ]
  },
  {
   "cell_type": "markdown",
   "metadata": {},
   "source": [
    "Let's further clean this up a little bit to make it easier to see what is happening...\n",
    "\n",
    "**Special Tip:** By breaking steps apart it makes code much easier to understand for everyone\n",
    "\n",
    "In this case we will add a new variable"
   ]
  },
  {
   "cell_type": "code",
   "execution_count": 21,
   "metadata": {
    "collapsed": false
   },
   "outputs": [
    {
     "name": "stdout",
     "output_type": "stream",
     "text": [
      "date:2016-05-16T20:18:44+00:00\n",
      "id:1743547\n",
      "description:\n",
      "date_created:2016-08-19T04:14:17.742376+00:00\n",
      "date_updated:2016-05-16T20:18:44+00:00\n",
      "type:creativework\n",
      "language:None\n",
      "subjects:[]\n",
      "date_published:None\n",
      "date_modified:2016-08-19T04:14:17.742449+00:00\n",
      "title:Peripherica\n",
      "is_deleted:False\n",
      "contributors:[]\n",
      "publishers:['Knight Library Press - digital editions']\n",
      "sources:['DataCite MDS']\n",
      "institutions:['University of Oregon Libraries']\n",
      "tags:['Other', 'CDL.UOREGON', 'CDL']\n",
      "lists:{'contributors': [], 'links': [{'type': 'doi', 'url': 'http://dx.doi.org/10.7264/N3TD9VNT'}], 'institutions': [{'name': 'University of Oregon Libraries', 'type': 'institution', 'id': 59361}], 'publishers': [{'name': 'Knight Library Press - digital editions', 'type': 'publisher', 'id': 59363}]}\n"
     ]
    }
   ],
   "source": [
    "#put keys and values together\n",
    "record_source = record['_source']\n",
    "\n",
    "for key in record_source.keys():\n",
    "    print('{}:{}'.format(key,record_source[key]))"
   ]
  },
  {
   "cell_type": "markdown",
   "metadata": {},
   "source": [
    "**Writing output to CSV**\n",
    "\n",
    "We are now ready to move to CSV.\n",
    "\n",
    "**Special Tip:** Copy, Paste, and Adapt...It is always easier to start from an example.\n",
    "\n",
    "Let's try writing to a simple csv file as an example (example pulled from https://docs.python.org/3/library/csv.html)\n",
    "\n",
    "**Special Tip:** Add print statements to show something started and finished when there is no output"
   ]
  },
  {
   "cell_type": "code",
   "execution_count": 23,
   "metadata": {
    "collapsed": false
   },
   "outputs": [
    {
     "name": "stdout",
     "output_type": "stream",
     "text": [
      "---begin writing file---\n",
      "---done writing file----\n"
     ]
    }
   ],
   "source": [
    "import csv\n",
    "\n",
    "print('---begin writing file---')\n",
    "\n",
    "with open('names.csv', 'w') as csvfile:\n",
    "    fieldnames = ['first_name', 'last_name']\n",
    "    writer = csv.DictWriter(csvfile, fieldnames=fieldnames)\n",
    "\n",
    "    writer.writeheader()\n",
    "    writer.writerow({'first_name': 'Baked', 'last_name': 'Beans'})\n",
    "    writer.writerow({'first_name': 'Lovely', 'last_name': 'Spam'})\n",
    "    writer.writerow({'first_name': 'Wonderful', 'last_name': 'Spam'})\n",
    "    \n",
    "print('---done writing file----')"
   ]
  },
  {
   "cell_type": "markdown",
   "metadata": {},
   "source": [
    "Did you find the file?  It should put it in whatever is the home directory for Jupyter.  This is likely your user folder.\n",
    "\n",
    "Let's adapt this now with our data from SHARE..."
   ]
  },
  {
   "cell_type": "code",
   "execution_count": 25,
   "metadata": {
    "collapsed": false
   },
   "outputs": [
    {
     "name": "stderr",
     "output_type": "stream",
     "text": [
      "/Users/rjohns14/anaconda/lib/python3.5/site-packages/requests/packages/urllib3/connectionpool.py:821: InsecureRequestWarning: Unverified HTTPS request is being made. Adding certificate verification is strongly advised. See: https://urllib3.readthedocs.org/en/latest/security.html\n",
      "  InsecureRequestWarning)\n",
      "/Users/rjohns14/anaconda/lib/python3.5/site-packages/requests/packages/urllib3/connectionpool.py:821: InsecureRequestWarning: Unverified HTTPS request is being made. Adding certificate verification is strongly advised. See: https://urllib3.readthedocs.org/en/latest/security.html\n",
      "  InsecureRequestWarning)\n"
     ]
    },
    {
     "name": "stdout",
     "output_type": "stream",
     "text": [
      "---begin writing file---\n"
     ]
    },
    {
     "ename": "ValueError",
     "evalue": "dict contains fields not in fieldnames: 'publishers'",
     "output_type": "error",
     "traceback": [
      "\u001b[0;31m---------------------------------------------------------------------------\u001b[0m",
      "\u001b[0;31mValueError\u001b[0m                                Traceback (most recent call last)",
      "\u001b[0;32m<ipython-input-25-e91b44fc81bc>\u001b[0m in \u001b[0;36m<module>\u001b[0;34m()\u001b[0m\n\u001b[1;32m     24\u001b[0m         \u001b[0;31m#for key in record['_source']:\u001b[0m\u001b[0;34m\u001b[0m\u001b[0;34m\u001b[0m\u001b[0m\n\u001b[1;32m     25\u001b[0m         \u001b[0;31m#    row.update({key:record['_source'][key]})\u001b[0m\u001b[0;34m\u001b[0m\u001b[0;34m\u001b[0m\u001b[0m\n\u001b[0;32m---> 26\u001b[0;31m         \u001b[0mwriter\u001b[0m\u001b[0;34m.\u001b[0m\u001b[0mwriterow\u001b[0m\u001b[0;34m(\u001b[0m\u001b[0mrecord_source\u001b[0m\u001b[0;34m)\u001b[0m\u001b[0;34m\u001b[0m\u001b[0m\n\u001b[0m\u001b[1;32m     27\u001b[0m         \u001b[0;31m#for key in row['_source']:\u001b[0m\u001b[0;34m\u001b[0m\u001b[0;34m\u001b[0m\u001b[0m\n\u001b[1;32m     28\u001b[0m \u001b[0;34m\u001b[0m\u001b[0m\n",
      "\u001b[0;32m/Users/rjohns14/anaconda/lib/python3.5/csv.py\u001b[0m in \u001b[0;36mwriterow\u001b[0;34m(self, rowdict)\u001b[0m\n\u001b[1;32m    151\u001b[0m \u001b[0;34m\u001b[0m\u001b[0m\n\u001b[1;32m    152\u001b[0m     \u001b[0;32mdef\u001b[0m \u001b[0mwriterow\u001b[0m\u001b[0;34m(\u001b[0m\u001b[0mself\u001b[0m\u001b[0;34m,\u001b[0m \u001b[0mrowdict\u001b[0m\u001b[0;34m)\u001b[0m\u001b[0;34m:\u001b[0m\u001b[0;34m\u001b[0m\u001b[0m\n\u001b[0;32m--> 153\u001b[0;31m         \u001b[0;32mreturn\u001b[0m \u001b[0mself\u001b[0m\u001b[0;34m.\u001b[0m\u001b[0mwriter\u001b[0m\u001b[0;34m.\u001b[0m\u001b[0mwriterow\u001b[0m\u001b[0;34m(\u001b[0m\u001b[0mself\u001b[0m\u001b[0;34m.\u001b[0m\u001b[0m_dict_to_list\u001b[0m\u001b[0;34m(\u001b[0m\u001b[0mrowdict\u001b[0m\u001b[0;34m)\u001b[0m\u001b[0;34m)\u001b[0m\u001b[0;34m\u001b[0m\u001b[0m\n\u001b[0m\u001b[1;32m    154\u001b[0m \u001b[0;34m\u001b[0m\u001b[0m\n\u001b[1;32m    155\u001b[0m     \u001b[0;32mdef\u001b[0m \u001b[0mwriterows\u001b[0m\u001b[0;34m(\u001b[0m\u001b[0mself\u001b[0m\u001b[0;34m,\u001b[0m \u001b[0mrowdicts\u001b[0m\u001b[0;34m)\u001b[0m\u001b[0;34m:\u001b[0m\u001b[0;34m\u001b[0m\u001b[0m\n",
      "\u001b[0;32m/Users/rjohns14/anaconda/lib/python3.5/csv.py\u001b[0m in \u001b[0;36m_dict_to_list\u001b[0;34m(self, rowdict)\u001b[0m\n\u001b[1;32m    147\u001b[0m             \u001b[0;32mif\u001b[0m \u001b[0mwrong_fields\u001b[0m\u001b[0;34m:\u001b[0m\u001b[0;34m\u001b[0m\u001b[0m\n\u001b[1;32m    148\u001b[0m                 raise ValueError(\"dict contains fields not in fieldnames: \"\n\u001b[0;32m--> 149\u001b[0;31m                                  + \", \".join([repr(x) for x in wrong_fields]))\n\u001b[0m\u001b[1;32m    150\u001b[0m         \u001b[0;32mreturn\u001b[0m \u001b[0;34m(\u001b[0m\u001b[0mrowdict\u001b[0m\u001b[0;34m.\u001b[0m\u001b[0mget\u001b[0m\u001b[0;34m(\u001b[0m\u001b[0mkey\u001b[0m\u001b[0;34m,\u001b[0m \u001b[0mself\u001b[0m\u001b[0;34m.\u001b[0m\u001b[0mrestval\u001b[0m\u001b[0;34m)\u001b[0m \u001b[0;32mfor\u001b[0m \u001b[0mkey\u001b[0m \u001b[0;32min\u001b[0m \u001b[0mself\u001b[0m\u001b[0;34m.\u001b[0m\u001b[0mfieldnames\u001b[0m\u001b[0;34m)\u001b[0m\u001b[0;34m\u001b[0m\u001b[0m\n\u001b[1;32m    151\u001b[0m \u001b[0;34m\u001b[0m\u001b[0m\n",
      "\u001b[0;31mValueError\u001b[0m: dict contains fields not in fieldnames: 'publishers'"
     ]
    }
   ],
   "source": [
    "import csv\n",
    "\n",
    "affiliation_results = query_share(search_url.url, affiliation_query)\n",
    "records = affiliation_results['hits']['hits']\n",
    "\n",
    "print('---begin writing file---')\n",
    "\n",
    "#set our filenames\n",
    "SHARE_MATCHING_INSTITUTION_RECORDS = 'share_matching.csv'\n",
    "\n",
    "with open(SHARE_MATCHING_INSTITUTION_RECORDS, 'w') as csvfile:\n",
    "    #instead of pop use a for loop\n",
    "    i = 0\n",
    "    for record in records:\n",
    "        # we need to write out the header\n",
    "        record_source = record['_source']\n",
    "        if i == 0:\n",
    "            fieldnames = record_source.keys()\n",
    "            writer = csv.DictWriter(csvfile, fieldnames=fieldnames)\n",
    "            writer.writeheader()\n",
    "            i = i + 1\n",
    "        writer.writerow(record_source)    \n",
    "        \n",
    "print('---done writing file----')"
   ]
  },
  {
   "cell_type": "markdown",
   "metadata": {},
   "source": [
    "What happened here?  \n",
    "\n",
    "It was confused by a nested dictionary and fieldnames it did not expect.\n",
    "\n",
    "**Special Tip:** 'extrasaction' value of 'ignore' will not throw an error if there are keys in this method such as a nested dictionary"
   ]
  },
  {
   "cell_type": "code",
   "execution_count": 27,
   "metadata": {
    "collapsed": false
   },
   "outputs": [
    {
     "name": "stderr",
     "output_type": "stream",
     "text": [
      "/Users/rjohns14/anaconda/lib/python3.5/site-packages/requests/packages/urllib3/connectionpool.py:821: InsecureRequestWarning: Unverified HTTPS request is being made. Adding certificate verification is strongly advised. See: https://urllib3.readthedocs.org/en/latest/security.html\n",
      "  InsecureRequestWarning)\n",
      "/Users/rjohns14/anaconda/lib/python3.5/site-packages/requests/packages/urllib3/connectionpool.py:821: InsecureRequestWarning: Unverified HTTPS request is being made. Adding certificate verification is strongly advised. See: https://urllib3.readthedocs.org/en/latest/security.html\n",
      "  InsecureRequestWarning)\n"
     ]
    },
    {
     "name": "stdout",
     "output_type": "stream",
     "text": [
      "---begin writing file---\n",
      "---done writing file---\n"
     ]
    }
   ],
   "source": [
    "import csv\n",
    "\n",
    "affiliation_results = query_share(search_url.url, affiliation_query)\n",
    "records = affiliation_results['hits']['hits']\n",
    "\n",
    "print('---begin writing file---')\n",
    "\n",
    "#set our filenames\n",
    "SHARE_MATCHING_INSTITUTION_RECORDS = 'share_matching.csv'\n",
    "\n",
    "with open(SHARE_MATCHING_INSTITUTION_RECORDS, 'w') as csvfile:\n",
    "    #instead of pop us a for loop\n",
    "    i = 0\n",
    "    for row in records:\n",
    "        if i == 0:\n",
    "            fieldnames = row['_source'].keys()\n",
    "            writer = csv.DictWriter(csvfile, fieldnames=fieldnames, extrasaction='ignore')\n",
    "            writer.writeheader()\n",
    "            i = i + 1\n",
    "        writer.writerow(row['_source'])    \n",
    "        \n",
    "print('---done writing file---')"
   ]
  },
  {
   "cell_type": "markdown",
   "metadata": {},
   "source": [
    "**Wrapping Up**\n",
    "\n",
    "You have now successfully queried share for records tied to your institution and have pushed them to a csv file.\n",
    "\n",
    "**Future Steps**\n",
    "\n",
    "-There is more cleanup to be done to get other values like if something has more than one link by adding nested keys to the field names list as well will capture these values\n",
    "\n",
    "-Once you have the data, update and then push it back to SHARE"
   ]
  },
  {
   "cell_type": "markdown",
   "metadata": {
    "collapsed": true
   },
   "source": [
    "**Other tips...**\n",
    "\n",
    "You can use the os module as shown below to change directories to a certain path if you want to put the csv file in a particular directory."
   ]
  },
  {
   "cell_type": "code",
   "execution_count": null,
   "metadata": {
    "collapsed": false
   },
   "outputs": [],
   "source": [
    "import os\n",
    "\n",
    "#os.getcwd()\n",
    "#os.chdir('..')\n",
    "#os.getcwd()\n",
    "#os.chdir('share_tutorials')\n",
    "#os.getcwd()"
   ]
  }
 ],
 "metadata": {
  "anaconda-cloud": {},
  "kernelspec": {
   "display_name": "Python [Root]",
   "language": "python",
   "name": "Python [Root]"
  },
  "language_info": {
   "codemirror_mode": {
    "name": "ipython",
    "version": 3
   },
   "file_extension": ".py",
   "mimetype": "text/x-python",
   "name": "python",
   "nbconvert_exporter": "python",
   "pygments_lexer": "ipython3",
   "version": "3.5.2"
  }
 },
 "nbformat": 4,
 "nbformat_minor": 0
}
